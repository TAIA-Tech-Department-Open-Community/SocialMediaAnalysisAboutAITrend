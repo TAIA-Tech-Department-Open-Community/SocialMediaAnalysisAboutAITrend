{
 "cells": [
  {
   "metadata": {
    "ExecuteTime": {
     "end_time": "2024-06-02T13:03:55.476522Z",
     "start_time": "2024-06-02T13:03:55.461522Z"
    }
   },
   "cell_type": "code",
   "source": [
    "import os\n",
    "import random\n",
    "\n",
    "from tqdm import tqdm\n",
    "import pandas as pd\n",
    "import matplotlib.pyplot as plt\n",
    "from matplotlib import font_manager\n",
    "from collections import Counter\n",
    "from pyvis.network import Network\n",
    "import networkx as nx\n",
    "import numpy as np"
   ],
   "id": "22abdec04603e1c6",
   "outputs": [],
   "execution_count": 105
  },
  {
   "metadata": {},
   "cell_type": "markdown",
   "source": "# <div style=\"font-family: 'Garamond', serif; font-size: 22px; color: #ffffff; background-color: #34568B; text-align: center; padding: 15px; border-radius: 10px; border: 2px solid #FF6F61; box-shadow: 0 6px 12px rgba(0, 0, 0, 0.3); margin-bottom: 20px;\">Step 1: Load the data 載入資料</div>",
   "id": "94c7ad4cad6df249"
  },
  {
   "metadata": {},
   "cell_type": "markdown",
   "source": "## <div style=\"font-family: 'Lucida Sans Unicode', sans-serif; font-size: 18px; color: #4A235A; background-color: #D7BDE2; text-align: left; padding: 10px; border-left: 5px solid #7D3C98; box-shadow: 0 4px 6px rgba(0, 0, 0, 0.2); margin-bottom: 10px;\">Dataset Information 資料集資訊</div>",
   "id": "972d8747feed9a87"
  },
  {
   "metadata": {},
   "cell_type": "markdown",
   "source": [
    "# PTT AI 討論資料集介紹\n",
    "\n",
    "## 資料集概覽\n",
    "\n",
    "此資料集包含有關 AI 的討論，收集自台灣的社群媒體平台 PTT。資料收集範圍從 2022 年 1 月 1 日到 2024 年 5 月 31 日，共包含 2,172 筆資料。\n",
    "\n",
    "## 資料欄位說明\n",
    "\n",
    "資料集包含以下 11 個欄位：\n",
    "\n",
    "1. `system_id`: 系統編號，總共 2172 筆，無空值。\n",
    "2. `artComment`: 文章評論，總共 2172 筆，無空值。\n",
    "3. `artDate`: 文章日期，總共 2172 筆，無空值。\n",
    "4. `insertedDate`: 插入日期，總共 2172 筆，無空值。\n",
    "5. `artContent`: 文章內容，總共 2172 筆，無空值。\n",
    "6. `artCatagory`: 文章類別，總共 2172 筆，無空值。\n",
    "7. `dataSource`: 資料來源，總共 2172 筆，無空值，全部來自 PTT。\n",
    "8. `artPoster`: 發文者，總共 2172 筆，無空值。\n",
    "9. `artTitle`: 文章標題，總共 2172 筆，無空值。\n",
    "10. `artUrl`: 文章網址，總共 2172 筆，無空值。\n",
    "\n",
    "## 記憶體使用情況\n",
    "\n",
    "- 資料集大小： 186.8+ KB\n",
    "- 資料型態：整數 (int64) 1 欄，物件 (object) 9 欄"
   ],
   "id": "4d8ba2711ce5cd6d"
  },
  {
   "metadata": {
    "ExecuteTime": {
     "end_time": "2024-06-02T12:37:32.440992Z",
     "start_time": "2024-06-02T12:37:32.209994Z"
    }
   },
   "cell_type": "code",
   "source": [
    "df = pd.read_csv('data/ptt_ai_221130to240531.csv')\n",
    "df.head()"
   ],
   "id": "768682c2b5a812a7",
   "outputs": [
    {
     "data": {
      "text/plain": [
       "   system_id                                             artUrl  \\\n",
       "0          1  https://www.ptt.cc/bbs/Finance/M.1644917373.A....   \n",
       "1          2  https://www.ptt.cc/bbs/Finance/M.1653071365.A....   \n",
       "2          3  https://www.ptt.cc/bbs/Finance/M.1676346325.A....   \n",
       "3          4  https://www.ptt.cc/bbs/Finance/M.1698684536.A....   \n",
       "4          5  https://www.ptt.cc/bbs/job/M.1641165773.A.E67....   \n",
       "\n",
       "                    artTitle              artDate     artPoster artCatagory  \\\n",
       "0    [徵才]普匯金融科技-金融科技行銷/金融實習生  2022-02-15 17:29:30         ggglu     Finance   \n",
       "1        [新聞]台銀「三駕馬車」戰略發威前4月  2022-05-21 02:29:23      make1302     Finance   \n",
       "2            [新聞]央行徵才月薪最高86K  2023-02-14 11:45:19      kria5304     Finance   \n",
       "3  [新聞]證交所徵才開創數位驅動時代報名至11/17  2023-10-31 00:48:54  BangBang5566     Finance   \n",
       "4      [台中][西屯］飛斯戴爾有限公司/日文客服  2022-01-03 07:22:51       howdigh         job   \n",
       "\n",
       "                                          artContent  \\\n",
       "0  【實習】\\r\\n【公司名稱】Influx FinTech 普匯金融科技\\r\\n\\r\\n【工作...   \n",
       "1  （中央社記者張璦台北20日電）台灣銀行消金、企金、政府部門業務「三駕馬車」再發威\\r\\n，董...   \n",
       "2  https://tinyurl.com/3fcp6ehh\\r\\n記者陳美君／台北報導\\r\\n...   \n",
       "3  證交所徵才開創數位驅動時代 報名至11/17止\\r\\n\\r\\n中央社\\r\\n2023年10月...   \n",
       "4  job版禁止張貼違反「\\r\\n就業服務法\\r\\n」、\\r\\n「\\r\\n性別平等工作法\\r\\n...   \n",
       "\n",
       "                                          artComment             e_ip  \\\n",
       "0  [{\"cmtStatus\": \"噓\", \"cmtPoster\": \"cow38\", \"cmt...  118.168.142.101   \n",
       "1  [{\"cmtStatus\": \"推\", \"cmtPoster\": \"DerLuna\", \"c...   118.171.234.47   \n",
       "2  [{\"cmtStatus\": \"噓\", \"cmtPoster\": \"fill725258\",...    36.224.200.45   \n",
       "3  [{\"cmtStatus\": \"推\", \"cmtPoster\": \"Laviathan\", ...      42.70.143.5   \n",
       "4                                                 []   125.230.247.67   \n",
       "\n",
       "          insertedDate dataSource  \n",
       "0  2022-02-16 00:12:45        ptt  \n",
       "1  2022-05-22 01:11:41        ptt  \n",
       "2  2023-02-15 01:06:37        ptt  \n",
       "3  2023-10-31 01:10:55        ptt  \n",
       "4  2022-01-04 00:58:48        ptt  "
      ],
      "text/html": [
       "<div>\n",
       "<style scoped>\n",
       "    .dataframe tbody tr th:only-of-type {\n",
       "        vertical-align: middle;\n",
       "    }\n",
       "\n",
       "    .dataframe tbody tr th {\n",
       "        vertical-align: top;\n",
       "    }\n",
       "\n",
       "    .dataframe thead th {\n",
       "        text-align: right;\n",
       "    }\n",
       "</style>\n",
       "<table border=\"1\" class=\"dataframe\">\n",
       "  <thead>\n",
       "    <tr style=\"text-align: right;\">\n",
       "      <th></th>\n",
       "      <th>system_id</th>\n",
       "      <th>artUrl</th>\n",
       "      <th>artTitle</th>\n",
       "      <th>artDate</th>\n",
       "      <th>artPoster</th>\n",
       "      <th>artCatagory</th>\n",
       "      <th>artContent</th>\n",
       "      <th>artComment</th>\n",
       "      <th>e_ip</th>\n",
       "      <th>insertedDate</th>\n",
       "      <th>dataSource</th>\n",
       "    </tr>\n",
       "  </thead>\n",
       "  <tbody>\n",
       "    <tr>\n",
       "      <th>0</th>\n",
       "      <td>1</td>\n",
       "      <td>https://www.ptt.cc/bbs/Finance/M.1644917373.A....</td>\n",
       "      <td>[徵才]普匯金融科技-金融科技行銷/金融實習生</td>\n",
       "      <td>2022-02-15 17:29:30</td>\n",
       "      <td>ggglu</td>\n",
       "      <td>Finance</td>\n",
       "      <td>【實習】\\r\\n【公司名稱】Influx FinTech 普匯金融科技\\r\\n\\r\\n【工作...</td>\n",
       "      <td>[{\"cmtStatus\": \"噓\", \"cmtPoster\": \"cow38\", \"cmt...</td>\n",
       "      <td>118.168.142.101</td>\n",
       "      <td>2022-02-16 00:12:45</td>\n",
       "      <td>ptt</td>\n",
       "    </tr>\n",
       "    <tr>\n",
       "      <th>1</th>\n",
       "      <td>2</td>\n",
       "      <td>https://www.ptt.cc/bbs/Finance/M.1653071365.A....</td>\n",
       "      <td>[新聞]台銀「三駕馬車」戰略發威前4月</td>\n",
       "      <td>2022-05-21 02:29:23</td>\n",
       "      <td>make1302</td>\n",
       "      <td>Finance</td>\n",
       "      <td>（中央社記者張璦台北20日電）台灣銀行消金、企金、政府部門業務「三駕馬車」再發威\\r\\n，董...</td>\n",
       "      <td>[{\"cmtStatus\": \"推\", \"cmtPoster\": \"DerLuna\", \"c...</td>\n",
       "      <td>118.171.234.47</td>\n",
       "      <td>2022-05-22 01:11:41</td>\n",
       "      <td>ptt</td>\n",
       "    </tr>\n",
       "    <tr>\n",
       "      <th>2</th>\n",
       "      <td>3</td>\n",
       "      <td>https://www.ptt.cc/bbs/Finance/M.1676346325.A....</td>\n",
       "      <td>[新聞]央行徵才月薪最高86K</td>\n",
       "      <td>2023-02-14 11:45:19</td>\n",
       "      <td>kria5304</td>\n",
       "      <td>Finance</td>\n",
       "      <td>https://tinyurl.com/3fcp6ehh\\r\\n記者陳美君／台北報導\\r\\n...</td>\n",
       "      <td>[{\"cmtStatus\": \"噓\", \"cmtPoster\": \"fill725258\",...</td>\n",
       "      <td>36.224.200.45</td>\n",
       "      <td>2023-02-15 01:06:37</td>\n",
       "      <td>ptt</td>\n",
       "    </tr>\n",
       "    <tr>\n",
       "      <th>3</th>\n",
       "      <td>4</td>\n",
       "      <td>https://www.ptt.cc/bbs/Finance/M.1698684536.A....</td>\n",
       "      <td>[新聞]證交所徵才開創數位驅動時代報名至11/17</td>\n",
       "      <td>2023-10-31 00:48:54</td>\n",
       "      <td>BangBang5566</td>\n",
       "      <td>Finance</td>\n",
       "      <td>證交所徵才開創數位驅動時代 報名至11/17止\\r\\n\\r\\n中央社\\r\\n2023年10月...</td>\n",
       "      <td>[{\"cmtStatus\": \"推\", \"cmtPoster\": \"Laviathan\", ...</td>\n",
       "      <td>42.70.143.5</td>\n",
       "      <td>2023-10-31 01:10:55</td>\n",
       "      <td>ptt</td>\n",
       "    </tr>\n",
       "    <tr>\n",
       "      <th>4</th>\n",
       "      <td>5</td>\n",
       "      <td>https://www.ptt.cc/bbs/job/M.1641165773.A.E67....</td>\n",
       "      <td>[台中][西屯］飛斯戴爾有限公司/日文客服</td>\n",
       "      <td>2022-01-03 07:22:51</td>\n",
       "      <td>howdigh</td>\n",
       "      <td>job</td>\n",
       "      <td>job版禁止張貼違反「\\r\\n就業服務法\\r\\n」、\\r\\n「\\r\\n性別平等工作法\\r\\n...</td>\n",
       "      <td>[]</td>\n",
       "      <td>125.230.247.67</td>\n",
       "      <td>2022-01-04 00:58:48</td>\n",
       "      <td>ptt</td>\n",
       "    </tr>\n",
       "  </tbody>\n",
       "</table>\n",
       "</div>"
      ]
     },
     "execution_count": 33,
     "metadata": {},
     "output_type": "execute_result"
    }
   ],
   "execution_count": 33
  },
  {
   "metadata": {
    "ExecuteTime": {
     "end_time": "2024-06-02T12:37:32.735993Z",
     "start_time": "2024-06-02T12:37:32.725993Z"
    }
   },
   "cell_type": "code",
   "source": "df.info()",
   "id": "18334adee5cff6a3",
   "outputs": [
    {
     "name": "stdout",
     "output_type": "stream",
     "text": [
      "<class 'pandas.core.frame.DataFrame'>\n",
      "RangeIndex: 2172 entries, 0 to 2171\n",
      "Data columns (total 11 columns):\n",
      " #   Column        Non-Null Count  Dtype \n",
      "---  ------        --------------  ----- \n",
      " 0   system_id     2172 non-null   int64 \n",
      " 1   artUrl        2172 non-null   object\n",
      " 2   artTitle      2172 non-null   object\n",
      " 3   artDate       2172 non-null   object\n",
      " 4   artPoster     2172 non-null   object\n",
      " 5   artCatagory   2172 non-null   object\n",
      " 6   artContent    2172 non-null   object\n",
      " 7   artComment    2172 non-null   object\n",
      " 8   e_ip          2126 non-null   object\n",
      " 9   insertedDate  2172 non-null   object\n",
      " 10  dataSource    2172 non-null   object\n",
      "dtypes: int64(1), object(10)\n",
      "memory usage: 186.8+ KB\n"
     ]
    }
   ],
   "execution_count": 34
  },
  {
   "metadata": {},
   "cell_type": "markdown",
   "source": "## <div style=\"font-family: 'Lucida Sans Unicode', sans-serif; font-size: 18px; color: #4A235A; background-color: #D7BDE2; text-align: left; padding: 10px; border-left: 5px solid #7D3C98; box-shadow: 0 4px 6px rgba(0, 0, 0, 0.2); margin-bottom: 10px;\">Load the font 載入字型</div>",
   "id": "942e2d5ff87623d9"
  },
  {
   "metadata": {
    "ExecuteTime": {
     "end_time": "2024-06-02T12:37:34.087266Z",
     "start_time": "2024-06-02T12:37:34.070265Z"
    }
   },
   "cell_type": "code",
   "source": [
    "# Path to the custom font\n",
    "font_path = 'font/TraditionalChinese.ttf'\n",
    "\n",
    "# Add the custom font to the font manager\n",
    "font_manager.fontManager.addfont(font_path)\n",
    "\n",
    "# After adding the font, search for it by filename to get the correct font name\n",
    "for font in font_manager.fontManager.ttflist:\n",
    "    if font.fname == font_path:\n",
    "        print(f\"Found font: {font.name}\")\n",
    "        plt.rcParams['font.family'] = font.name\n",
    "        break"
   ],
   "id": "dece2f475d15028e",
   "outputs": [
    {
     "name": "stdout",
     "output_type": "stream",
     "text": [
      "Found font: Noto Sans TC\n"
     ]
    }
   ],
   "execution_count": 35
  },
  {
   "metadata": {},
   "cell_type": "markdown",
   "source": "# <div style=\"font-family: 'Garamond', serif; font-size: 22px; color: #ffffff; background-color: #34568B; text-align: center; padding: 15px; border-radius: 10px; border: 2px solid #FF6F61; box-shadow: 0 6px 12px rgba(0, 0, 0, 0.3); margin-bottom: 20px;\">Step 2: Data Preprocessing 資料前處理</div>",
   "id": "14e79c2aec21593e"
  },
  {
   "metadata": {},
   "cell_type": "markdown",
   "source": "## <div style=\"font-family: 'Lucida Sans Unicode', sans-serif; font-size: 18px; color: #4A235A; background-color: #D7BDE2; text-align: left; padding: 10px; border-left: 5px solid #7D3C98; box-shadow: 0 4px 6px rgba(0, 0, 0, 0.2); margin-bottom: 10px;\">Data Cleaning 資料清理</div>",
   "id": "15c99ef93a8fb6ee"
  },
  {
   "metadata": {
    "ExecuteTime": {
     "end_time": "2024-06-02T12:37:35.338636Z",
     "start_time": "2024-06-02T12:37:35.300417Z"
    }
   },
   "cell_type": "code",
   "source": [
    "# 複製原始資料集\n",
    "clear_df = df.copy()\n",
    "\n",
    "#去除本次不會用到的欄位\n",
    "drop_cols = ['system_id', 'artTitle', 'artCatagory', 'dataSource', 'insertedDate']\n",
    "clear_df.drop(drop_cols, axis = 1, inplace = True)\n",
    "\n",
    "#去除文章內容為空值的筆數\n",
    "clear_df.dropna(subset = ['artContent'], axis=0, how='any', inplace=True)\n",
    "\n",
    "#新增['sentence']欄位，用'。'取代'\\n\\n'，並移除'\\n'\n",
    "clear_df['sentence'] = clear_df['artContent'].str.replace(r'\\n\\n','。', regex=True)\n",
    "clear_df['sentence'] = clear_df['sentence'].str.replace(r'\\n','，', regex=True)\n",
    "\n",
    "#移除內文中的網址\n",
    "clear_df['sentence'] = clear_df['sentence'].replace(r'http\\S+', '', regex=True).replace(r'www\\S+', '', regex=True)\n",
    "\n",
    "clear_df.head(10)"
   ],
   "id": "3fdcd5f91178e123",
   "outputs": [
    {
     "data": {
      "text/plain": [
       "                                              artUrl              artDate  \\\n",
       "0  https://www.ptt.cc/bbs/Finance/M.1644917373.A....  2022-02-15 17:29:30   \n",
       "1  https://www.ptt.cc/bbs/Finance/M.1653071365.A....  2022-05-21 02:29:23   \n",
       "2  https://www.ptt.cc/bbs/Finance/M.1676346325.A....  2023-02-14 11:45:19   \n",
       "3  https://www.ptt.cc/bbs/Finance/M.1698684536.A....  2023-10-31 00:48:54   \n",
       "4  https://www.ptt.cc/bbs/job/M.1641165773.A.E67....  2022-01-03 07:22:51   \n",
       "5  https://www.ptt.cc/bbs/job/M.1641369547.A.B96....  2022-01-05 15:59:05   \n",
       "6  https://www.ptt.cc/bbs/job/M.1642053918.A.308....  2022-01-13 14:05:16   \n",
       "7  https://www.ptt.cc/bbs/job/M.1642382909.A.5D7....  2022-01-17 09:28:27   \n",
       "8  https://www.ptt.cc/bbs/job/M.1642668761.A.F44....  2022-01-20 16:52:39   \n",
       "9  https://www.ptt.cc/bbs/job/M.1642761016.A.4BA....  2022-01-21 18:30:13   \n",
       "\n",
       "      artPoster                                         artContent  \\\n",
       "0         ggglu  【實習】\\r\\n【公司名稱】Influx FinTech 普匯金融科技\\r\\n\\r\\n【工作...   \n",
       "1      make1302  （中央社記者張璦台北20日電）台灣銀行消金、企金、政府部門業務「三駕馬車」再發威\\r\\n，董...   \n",
       "2      kria5304  https://tinyurl.com/3fcp6ehh\\r\\n記者陳美君／台北報導\\r\\n...   \n",
       "3  BangBang5566  證交所徵才開創數位驅動時代 報名至11/17止\\r\\n\\r\\n中央社\\r\\n2023年10月...   \n",
       "4       howdigh  job版禁止張貼違反「\\r\\n就業服務法\\r\\n」、\\r\\n「\\r\\n性別平等工作法\\r\\n...   \n",
       "5     cakelover  job版禁止張貼違反「\\r\\n就業服務法\\r\\n」、\\r\\n「\\r\\n性別平等工作法\\r\\n...   \n",
       "6     qhorohoro  job版禁止張貼違反「\\r\\n就業服務法\\r\\n」、\\r\\n「\\r\\n性別平等工作法\\r\\n...   \n",
       "7     catty0310  job版禁止張貼違反「\\r\\n就業服務法\\r\\n」、\\r\\n「\\r\\n性別平等工作法\\r\\n...   \n",
       "8          trpw  job版禁止張貼違反「\\r\\n就業服務法\\r\\n」、\\r\\n「\\r\\n性別平等工作法\\r\\n...   \n",
       "9    GhostGrace  job版禁止張貼違反「\\r\\n就業服務法\\r\\n」、\\r\\n「\\r\\n性別平等工作法\\r\\n...   \n",
       "\n",
       "                                          artComment             e_ip  \\\n",
       "0  [{\"cmtStatus\": \"噓\", \"cmtPoster\": \"cow38\", \"cmt...  118.168.142.101   \n",
       "1  [{\"cmtStatus\": \"推\", \"cmtPoster\": \"DerLuna\", \"c...   118.171.234.47   \n",
       "2  [{\"cmtStatus\": \"噓\", \"cmtPoster\": \"fill725258\",...    36.224.200.45   \n",
       "3  [{\"cmtStatus\": \"推\", \"cmtPoster\": \"Laviathan\", ...      42.70.143.5   \n",
       "4                                                 []   125.230.247.67   \n",
       "5                                                 []     1.160.17.133   \n",
       "6                                                 []      61.220.52.4   \n",
       "7                                                 []     1.162.212.73   \n",
       "8                                                 []     219.87.87.33   \n",
       "9                                                 []  223.137.115.117   \n",
       "\n",
       "                                            sentence  \n",
       "0  【實習】\\r，【公司名稱】Influx FinTech 普匯金融科技\\r，\\r，【工作職缺】...  \n",
       "1  （中央社記者張璦台北20日電）台灣銀行消金、企金、政府部門業務「三駕馬車」再發威\\r，，董事...  \n",
       "2  \\r，記者陳美君／台北報導\\r，2023年2月14日 週二 上午6:32\\r，擁抱「金」飯碗...  \n",
       "3  證交所徵才開創數位驅動時代 報名至11/17止\\r，\\r，中央社\\r，2023年10月30日...  \n",
       "4  job版禁止張貼違反「\\r，就業服務法\\r，」、\\r，「\\r，性別平等工作法\\r，」、\\r，...  \n",
       "5  job版禁止張貼違反「\\r，就業服務法\\r，」、\\r，「\\r，性別平等工作法\\r，」、\\r，...  \n",
       "6  job版禁止張貼違反「\\r，就業服務法\\r，」、\\r，「\\r，性別平等工作法\\r，」、\\r，...  \n",
       "7  job版禁止張貼違反「\\r，就業服務法\\r，」、\\r，「\\r，性別平等工作法\\r，」、\\r，...  \n",
       "8  job版禁止張貼違反「\\r，就業服務法\\r，」、\\r，「\\r，性別平等工作法\\r，」、\\r，...  \n",
       "9  job版禁止張貼違反「\\r，就業服務法\\r，」、\\r，「\\r，性別平等工作法\\r，」、\\r，...  "
      ],
      "text/html": [
       "<div>\n",
       "<style scoped>\n",
       "    .dataframe tbody tr th:only-of-type {\n",
       "        vertical-align: middle;\n",
       "    }\n",
       "\n",
       "    .dataframe tbody tr th {\n",
       "        vertical-align: top;\n",
       "    }\n",
       "\n",
       "    .dataframe thead th {\n",
       "        text-align: right;\n",
       "    }\n",
       "</style>\n",
       "<table border=\"1\" class=\"dataframe\">\n",
       "  <thead>\n",
       "    <tr style=\"text-align: right;\">\n",
       "      <th></th>\n",
       "      <th>artUrl</th>\n",
       "      <th>artDate</th>\n",
       "      <th>artPoster</th>\n",
       "      <th>artContent</th>\n",
       "      <th>artComment</th>\n",
       "      <th>e_ip</th>\n",
       "      <th>sentence</th>\n",
       "    </tr>\n",
       "  </thead>\n",
       "  <tbody>\n",
       "    <tr>\n",
       "      <th>0</th>\n",
       "      <td>https://www.ptt.cc/bbs/Finance/M.1644917373.A....</td>\n",
       "      <td>2022-02-15 17:29:30</td>\n",
       "      <td>ggglu</td>\n",
       "      <td>【實習】\\r\\n【公司名稱】Influx FinTech 普匯金融科技\\r\\n\\r\\n【工作...</td>\n",
       "      <td>[{\"cmtStatus\": \"噓\", \"cmtPoster\": \"cow38\", \"cmt...</td>\n",
       "      <td>118.168.142.101</td>\n",
       "      <td>【實習】\\r，【公司名稱】Influx FinTech 普匯金融科技\\r，\\r，【工作職缺】...</td>\n",
       "    </tr>\n",
       "    <tr>\n",
       "      <th>1</th>\n",
       "      <td>https://www.ptt.cc/bbs/Finance/M.1653071365.A....</td>\n",
       "      <td>2022-05-21 02:29:23</td>\n",
       "      <td>make1302</td>\n",
       "      <td>（中央社記者張璦台北20日電）台灣銀行消金、企金、政府部門業務「三駕馬車」再發威\\r\\n，董...</td>\n",
       "      <td>[{\"cmtStatus\": \"推\", \"cmtPoster\": \"DerLuna\", \"c...</td>\n",
       "      <td>118.171.234.47</td>\n",
       "      <td>（中央社記者張璦台北20日電）台灣銀行消金、企金、政府部門業務「三駕馬車」再發威\\r，，董事...</td>\n",
       "    </tr>\n",
       "    <tr>\n",
       "      <th>2</th>\n",
       "      <td>https://www.ptt.cc/bbs/Finance/M.1676346325.A....</td>\n",
       "      <td>2023-02-14 11:45:19</td>\n",
       "      <td>kria5304</td>\n",
       "      <td>https://tinyurl.com/3fcp6ehh\\r\\n記者陳美君／台北報導\\r\\n...</td>\n",
       "      <td>[{\"cmtStatus\": \"噓\", \"cmtPoster\": \"fill725258\",...</td>\n",
       "      <td>36.224.200.45</td>\n",
       "      <td>\\r，記者陳美君／台北報導\\r，2023年2月14日 週二 上午6:32\\r，擁抱「金」飯碗...</td>\n",
       "    </tr>\n",
       "    <tr>\n",
       "      <th>3</th>\n",
       "      <td>https://www.ptt.cc/bbs/Finance/M.1698684536.A....</td>\n",
       "      <td>2023-10-31 00:48:54</td>\n",
       "      <td>BangBang5566</td>\n",
       "      <td>證交所徵才開創數位驅動時代 報名至11/17止\\r\\n\\r\\n中央社\\r\\n2023年10月...</td>\n",
       "      <td>[{\"cmtStatus\": \"推\", \"cmtPoster\": \"Laviathan\", ...</td>\n",
       "      <td>42.70.143.5</td>\n",
       "      <td>證交所徵才開創數位驅動時代 報名至11/17止\\r，\\r，中央社\\r，2023年10月30日...</td>\n",
       "    </tr>\n",
       "    <tr>\n",
       "      <th>4</th>\n",
       "      <td>https://www.ptt.cc/bbs/job/M.1641165773.A.E67....</td>\n",
       "      <td>2022-01-03 07:22:51</td>\n",
       "      <td>howdigh</td>\n",
       "      <td>job版禁止張貼違反「\\r\\n就業服務法\\r\\n」、\\r\\n「\\r\\n性別平等工作法\\r\\n...</td>\n",
       "      <td>[]</td>\n",
       "      <td>125.230.247.67</td>\n",
       "      <td>job版禁止張貼違反「\\r，就業服務法\\r，」、\\r，「\\r，性別平等工作法\\r，」、\\r，...</td>\n",
       "    </tr>\n",
       "    <tr>\n",
       "      <th>5</th>\n",
       "      <td>https://www.ptt.cc/bbs/job/M.1641369547.A.B96....</td>\n",
       "      <td>2022-01-05 15:59:05</td>\n",
       "      <td>cakelover</td>\n",
       "      <td>job版禁止張貼違反「\\r\\n就業服務法\\r\\n」、\\r\\n「\\r\\n性別平等工作法\\r\\n...</td>\n",
       "      <td>[]</td>\n",
       "      <td>1.160.17.133</td>\n",
       "      <td>job版禁止張貼違反「\\r，就業服務法\\r，」、\\r，「\\r，性別平等工作法\\r，」、\\r，...</td>\n",
       "    </tr>\n",
       "    <tr>\n",
       "      <th>6</th>\n",
       "      <td>https://www.ptt.cc/bbs/job/M.1642053918.A.308....</td>\n",
       "      <td>2022-01-13 14:05:16</td>\n",
       "      <td>qhorohoro</td>\n",
       "      <td>job版禁止張貼違反「\\r\\n就業服務法\\r\\n」、\\r\\n「\\r\\n性別平等工作法\\r\\n...</td>\n",
       "      <td>[]</td>\n",
       "      <td>61.220.52.4</td>\n",
       "      <td>job版禁止張貼違反「\\r，就業服務法\\r，」、\\r，「\\r，性別平等工作法\\r，」、\\r，...</td>\n",
       "    </tr>\n",
       "    <tr>\n",
       "      <th>7</th>\n",
       "      <td>https://www.ptt.cc/bbs/job/M.1642382909.A.5D7....</td>\n",
       "      <td>2022-01-17 09:28:27</td>\n",
       "      <td>catty0310</td>\n",
       "      <td>job版禁止張貼違反「\\r\\n就業服務法\\r\\n」、\\r\\n「\\r\\n性別平等工作法\\r\\n...</td>\n",
       "      <td>[]</td>\n",
       "      <td>1.162.212.73</td>\n",
       "      <td>job版禁止張貼違反「\\r，就業服務法\\r，」、\\r，「\\r，性別平等工作法\\r，」、\\r，...</td>\n",
       "    </tr>\n",
       "    <tr>\n",
       "      <th>8</th>\n",
       "      <td>https://www.ptt.cc/bbs/job/M.1642668761.A.F44....</td>\n",
       "      <td>2022-01-20 16:52:39</td>\n",
       "      <td>trpw</td>\n",
       "      <td>job版禁止張貼違反「\\r\\n就業服務法\\r\\n」、\\r\\n「\\r\\n性別平等工作法\\r\\n...</td>\n",
       "      <td>[]</td>\n",
       "      <td>219.87.87.33</td>\n",
       "      <td>job版禁止張貼違反「\\r，就業服務法\\r，」、\\r，「\\r，性別平等工作法\\r，」、\\r，...</td>\n",
       "    </tr>\n",
       "    <tr>\n",
       "      <th>9</th>\n",
       "      <td>https://www.ptt.cc/bbs/job/M.1642761016.A.4BA....</td>\n",
       "      <td>2022-01-21 18:30:13</td>\n",
       "      <td>GhostGrace</td>\n",
       "      <td>job版禁止張貼違反「\\r\\n就業服務法\\r\\n」、\\r\\n「\\r\\n性別平等工作法\\r\\n...</td>\n",
       "      <td>[]</td>\n",
       "      <td>223.137.115.117</td>\n",
       "      <td>job版禁止張貼違反「\\r，就業服務法\\r，」、\\r，「\\r，性別平等工作法\\r，」、\\r，...</td>\n",
       "    </tr>\n",
       "  </tbody>\n",
       "</table>\n",
       "</div>"
      ]
     },
     "execution_count": 36,
     "metadata": {},
     "output_type": "execute_result"
    }
   ],
   "execution_count": 36
  },
  {
   "metadata": {},
   "cell_type": "markdown",
   "source": "## <div style=\"font-family: 'Lucida Sans Unicode', sans-serif; font-size: 18px; color: #4A235A; background-color: #D7BDE2; text-align: left; padding: 10px; border-left: 5px solid #7D3C98; box-shadow: 0 4px 6px rgba(0, 0, 0, 0.2); margin-bottom: 10px;\">Deal with Comments 處理留言</div>",
   "id": "247de663a850fbcf"
  },
  {
   "metadata": {
    "ExecuteTime": {
     "end_time": "2024-06-02T12:37:37.834203Z",
     "start_time": "2024-06-02T12:37:36.736684Z"
    }
   },
   "cell_type": "code",
   "source": [
    "tqdm.pandas()\n",
    "\n",
    "# 處理某篇文章的所有留言（取出留言者與狀態）\n",
    "def get_comment_info(com):\n",
    "  commenters,comment_status = [],[]\n",
    "  com = eval(com)\n",
    "  for i in com:\n",
    "    commenters.append(i['cmtPoster'])\n",
    "    comment_status.append(i['cmtStatus'])\n",
    "  return pd.Series([commenters, comment_status])\n",
    "\n",
    "# 將留言者與狀態分開\n",
    "clear_df[['commenters', 'comment_status']] = clear_df['artComment'].apply(get_comment_info)\n",
    "clear_df.head()"
   ],
   "id": "28abe4dd47ee7c86",
   "outputs": [
    {
     "data": {
      "text/plain": [
       "                                              artUrl              artDate  \\\n",
       "0  https://www.ptt.cc/bbs/Finance/M.1644917373.A....  2022-02-15 17:29:30   \n",
       "1  https://www.ptt.cc/bbs/Finance/M.1653071365.A....  2022-05-21 02:29:23   \n",
       "2  https://www.ptt.cc/bbs/Finance/M.1676346325.A....  2023-02-14 11:45:19   \n",
       "3  https://www.ptt.cc/bbs/Finance/M.1698684536.A....  2023-10-31 00:48:54   \n",
       "4  https://www.ptt.cc/bbs/job/M.1641165773.A.E67....  2022-01-03 07:22:51   \n",
       "\n",
       "      artPoster                                         artContent  \\\n",
       "0         ggglu  【實習】\\r\\n【公司名稱】Influx FinTech 普匯金融科技\\r\\n\\r\\n【工作...   \n",
       "1      make1302  （中央社記者張璦台北20日電）台灣銀行消金、企金、政府部門業務「三駕馬車」再發威\\r\\n，董...   \n",
       "2      kria5304  https://tinyurl.com/3fcp6ehh\\r\\n記者陳美君／台北報導\\r\\n...   \n",
       "3  BangBang5566  證交所徵才開創數位驅動時代 報名至11/17止\\r\\n\\r\\n中央社\\r\\n2023年10月...   \n",
       "4       howdigh  job版禁止張貼違反「\\r\\n就業服務法\\r\\n」、\\r\\n「\\r\\n性別平等工作法\\r\\n...   \n",
       "\n",
       "                                          artComment             e_ip  \\\n",
       "0  [{\"cmtStatus\": \"噓\", \"cmtPoster\": \"cow38\", \"cmt...  118.168.142.101   \n",
       "1  [{\"cmtStatus\": \"推\", \"cmtPoster\": \"DerLuna\", \"c...   118.171.234.47   \n",
       "2  [{\"cmtStatus\": \"噓\", \"cmtPoster\": \"fill725258\",...    36.224.200.45   \n",
       "3  [{\"cmtStatus\": \"推\", \"cmtPoster\": \"Laviathan\", ...      42.70.143.5   \n",
       "4                                                 []   125.230.247.67   \n",
       "\n",
       "                                            sentence  \\\n",
       "0  【實習】\\r，【公司名稱】Influx FinTech 普匯金融科技\\r，\\r，【工作職缺】...   \n",
       "1  （中央社記者張璦台北20日電）台灣銀行消金、企金、政府部門業務「三駕馬車」再發威\\r，，董事...   \n",
       "2  \\r，記者陳美君／台北報導\\r，2023年2月14日 週二 上午6:32\\r，擁抱「金」飯碗...   \n",
       "3  證交所徵才開創數位驅動時代 報名至11/17止\\r，\\r，中央社\\r，2023年10月30日...   \n",
       "4  job版禁止張貼違反「\\r，就業服務法\\r，」、\\r，「\\r，性別平等工作法\\r，」、\\r，...   \n",
       "\n",
       "                                          commenters  \\\n",
       "0             [cow38, IKnowWhy, z6112539, blackfire]   \n",
       "1  [DerLuna, TainanBus, whocare96, wekl, poisonB,...   \n",
       "2  [fill725258, junkuo, lolicum, Kydland, BernieW...   \n",
       "3  [Laviathan, cuteman0725, flybydance, Laviathan...   \n",
       "4                                                 []   \n",
       "\n",
       "                                      comment_status  \n",
       "0                                       [噓, 噓, 噓, 噓]  \n",
       "1  [推, 推, 推, 推, 推, 噓, 推, 推, →, 推, →, 推, 噓, 推, →, ...  \n",
       "2                        [噓, 推, 推, 推, 推, 推, →, 推, 推]  \n",
       "3  [推, 推, 推, 推, 推, 推, 推, →, 推, 噓, 推, 推, 推, →, 推, ...  \n",
       "4                                                 []  "
      ],
      "text/html": [
       "<div>\n",
       "<style scoped>\n",
       "    .dataframe tbody tr th:only-of-type {\n",
       "        vertical-align: middle;\n",
       "    }\n",
       "\n",
       "    .dataframe tbody tr th {\n",
       "        vertical-align: top;\n",
       "    }\n",
       "\n",
       "    .dataframe thead th {\n",
       "        text-align: right;\n",
       "    }\n",
       "</style>\n",
       "<table border=\"1\" class=\"dataframe\">\n",
       "  <thead>\n",
       "    <tr style=\"text-align: right;\">\n",
       "      <th></th>\n",
       "      <th>artUrl</th>\n",
       "      <th>artDate</th>\n",
       "      <th>artPoster</th>\n",
       "      <th>artContent</th>\n",
       "      <th>artComment</th>\n",
       "      <th>e_ip</th>\n",
       "      <th>sentence</th>\n",
       "      <th>commenters</th>\n",
       "      <th>comment_status</th>\n",
       "    </tr>\n",
       "  </thead>\n",
       "  <tbody>\n",
       "    <tr>\n",
       "      <th>0</th>\n",
       "      <td>https://www.ptt.cc/bbs/Finance/M.1644917373.A....</td>\n",
       "      <td>2022-02-15 17:29:30</td>\n",
       "      <td>ggglu</td>\n",
       "      <td>【實習】\\r\\n【公司名稱】Influx FinTech 普匯金融科技\\r\\n\\r\\n【工作...</td>\n",
       "      <td>[{\"cmtStatus\": \"噓\", \"cmtPoster\": \"cow38\", \"cmt...</td>\n",
       "      <td>118.168.142.101</td>\n",
       "      <td>【實習】\\r，【公司名稱】Influx FinTech 普匯金融科技\\r，\\r，【工作職缺】...</td>\n",
       "      <td>[cow38, IKnowWhy, z6112539, blackfire]</td>\n",
       "      <td>[噓, 噓, 噓, 噓]</td>\n",
       "    </tr>\n",
       "    <tr>\n",
       "      <th>1</th>\n",
       "      <td>https://www.ptt.cc/bbs/Finance/M.1653071365.A....</td>\n",
       "      <td>2022-05-21 02:29:23</td>\n",
       "      <td>make1302</td>\n",
       "      <td>（中央社記者張璦台北20日電）台灣銀行消金、企金、政府部門業務「三駕馬車」再發威\\r\\n，董...</td>\n",
       "      <td>[{\"cmtStatus\": \"推\", \"cmtPoster\": \"DerLuna\", \"c...</td>\n",
       "      <td>118.171.234.47</td>\n",
       "      <td>（中央社記者張璦台北20日電）台灣銀行消金、企金、政府部門業務「三駕馬車」再發威\\r，，董事...</td>\n",
       "      <td>[DerLuna, TainanBus, whocare96, wekl, poisonB,...</td>\n",
       "      <td>[推, 推, 推, 推, 推, 噓, 推, 推, →, 推, →, 推, 噓, 推, →, ...</td>\n",
       "    </tr>\n",
       "    <tr>\n",
       "      <th>2</th>\n",
       "      <td>https://www.ptt.cc/bbs/Finance/M.1676346325.A....</td>\n",
       "      <td>2023-02-14 11:45:19</td>\n",
       "      <td>kria5304</td>\n",
       "      <td>https://tinyurl.com/3fcp6ehh\\r\\n記者陳美君／台北報導\\r\\n...</td>\n",
       "      <td>[{\"cmtStatus\": \"噓\", \"cmtPoster\": \"fill725258\",...</td>\n",
       "      <td>36.224.200.45</td>\n",
       "      <td>\\r，記者陳美君／台北報導\\r，2023年2月14日 週二 上午6:32\\r，擁抱「金」飯碗...</td>\n",
       "      <td>[fill725258, junkuo, lolicum, Kydland, BernieW...</td>\n",
       "      <td>[噓, 推, 推, 推, 推, 推, →, 推, 推]</td>\n",
       "    </tr>\n",
       "    <tr>\n",
       "      <th>3</th>\n",
       "      <td>https://www.ptt.cc/bbs/Finance/M.1698684536.A....</td>\n",
       "      <td>2023-10-31 00:48:54</td>\n",
       "      <td>BangBang5566</td>\n",
       "      <td>證交所徵才開創數位驅動時代 報名至11/17止\\r\\n\\r\\n中央社\\r\\n2023年10月...</td>\n",
       "      <td>[{\"cmtStatus\": \"推\", \"cmtPoster\": \"Laviathan\", ...</td>\n",
       "      <td>42.70.143.5</td>\n",
       "      <td>證交所徵才開創數位驅動時代 報名至11/17止\\r，\\r，中央社\\r，2023年10月30日...</td>\n",
       "      <td>[Laviathan, cuteman0725, flybydance, Laviathan...</td>\n",
       "      <td>[推, 推, 推, 推, 推, 推, 推, →, 推, 噓, 推, 推, 推, →, 推, ...</td>\n",
       "    </tr>\n",
       "    <tr>\n",
       "      <th>4</th>\n",
       "      <td>https://www.ptt.cc/bbs/job/M.1641165773.A.E67....</td>\n",
       "      <td>2022-01-03 07:22:51</td>\n",
       "      <td>howdigh</td>\n",
       "      <td>job版禁止張貼違反「\\r\\n就業服務法\\r\\n」、\\r\\n「\\r\\n性別平等工作法\\r\\n...</td>\n",
       "      <td>[]</td>\n",
       "      <td>125.230.247.67</td>\n",
       "      <td>job版禁止張貼違反「\\r，就業服務法\\r，」、\\r，「\\r，性別平等工作法\\r，」、\\r，...</td>\n",
       "      <td>[]</td>\n",
       "      <td>[]</td>\n",
       "    </tr>\n",
       "  </tbody>\n",
       "</table>\n",
       "</div>"
      ]
     },
     "execution_count": 37,
     "metadata": {},
     "output_type": "execute_result"
    }
   ],
   "execution_count": 37
  },
  {
   "metadata": {},
   "cell_type": "markdown",
   "source": "## <div style=\"font-family: 'Lucida Sans Unicode', sans-serif; font-size: 18px; color: #4A235A; background-color: #D7BDE2; text-align: left; padding: 10px; border-left: 5px solid #7D3C98; box-shadow: 0 4px 6px rgba(0, 0, 0, 0.2); margin-bottom: 10px;\">Explode the DataFrame 展開資料</div>",
   "id": "892a79f3fe1115f5"
  },
  {
   "metadata": {
    "ExecuteTime": {
     "end_time": "2024-06-02T12:37:38.680588Z",
     "start_time": "2024-06-02T12:37:38.636590Z"
    }
   },
   "cell_type": "code",
   "source": [
    "# 展開留言者與狀態\n",
    "clear_df = clear_df.explode(['commenters', 'comment_status'])\n",
    "\n",
    "social_df = clear_df[['artPoster','artUrl','commenters','comment_status']]\n",
    "\n",
    "social_df.head()"
   ],
   "id": "f72a3790b4e4e5ea",
   "outputs": [
    {
     "data": {
      "text/plain": [
       "  artPoster                                             artUrl commenters  \\\n",
       "0     ggglu  https://www.ptt.cc/bbs/Finance/M.1644917373.A....      cow38   \n",
       "0     ggglu  https://www.ptt.cc/bbs/Finance/M.1644917373.A....   IKnowWhy   \n",
       "0     ggglu  https://www.ptt.cc/bbs/Finance/M.1644917373.A....   z6112539   \n",
       "0     ggglu  https://www.ptt.cc/bbs/Finance/M.1644917373.A....  blackfire   \n",
       "1  make1302  https://www.ptt.cc/bbs/Finance/M.1653071365.A....    DerLuna   \n",
       "\n",
       "  comment_status  \n",
       "0              噓  \n",
       "0              噓  \n",
       "0              噓  \n",
       "0              噓  \n",
       "1              推  "
      ],
      "text/html": [
       "<div>\n",
       "<style scoped>\n",
       "    .dataframe tbody tr th:only-of-type {\n",
       "        vertical-align: middle;\n",
       "    }\n",
       "\n",
       "    .dataframe tbody tr th {\n",
       "        vertical-align: top;\n",
       "    }\n",
       "\n",
       "    .dataframe thead th {\n",
       "        text-align: right;\n",
       "    }\n",
       "</style>\n",
       "<table border=\"1\" class=\"dataframe\">\n",
       "  <thead>\n",
       "    <tr style=\"text-align: right;\">\n",
       "      <th></th>\n",
       "      <th>artPoster</th>\n",
       "      <th>artUrl</th>\n",
       "      <th>commenters</th>\n",
       "      <th>comment_status</th>\n",
       "    </tr>\n",
       "  </thead>\n",
       "  <tbody>\n",
       "    <tr>\n",
       "      <th>0</th>\n",
       "      <td>ggglu</td>\n",
       "      <td>https://www.ptt.cc/bbs/Finance/M.1644917373.A....</td>\n",
       "      <td>cow38</td>\n",
       "      <td>噓</td>\n",
       "    </tr>\n",
       "    <tr>\n",
       "      <th>0</th>\n",
       "      <td>ggglu</td>\n",
       "      <td>https://www.ptt.cc/bbs/Finance/M.1644917373.A....</td>\n",
       "      <td>IKnowWhy</td>\n",
       "      <td>噓</td>\n",
       "    </tr>\n",
       "    <tr>\n",
       "      <th>0</th>\n",
       "      <td>ggglu</td>\n",
       "      <td>https://www.ptt.cc/bbs/Finance/M.1644917373.A....</td>\n",
       "      <td>z6112539</td>\n",
       "      <td>噓</td>\n",
       "    </tr>\n",
       "    <tr>\n",
       "      <th>0</th>\n",
       "      <td>ggglu</td>\n",
       "      <td>https://www.ptt.cc/bbs/Finance/M.1644917373.A....</td>\n",
       "      <td>blackfire</td>\n",
       "      <td>噓</td>\n",
       "    </tr>\n",
       "    <tr>\n",
       "      <th>1</th>\n",
       "      <td>make1302</td>\n",
       "      <td>https://www.ptt.cc/bbs/Finance/M.1653071365.A....</td>\n",
       "      <td>DerLuna</td>\n",
       "      <td>推</td>\n",
       "    </tr>\n",
       "  </tbody>\n",
       "</table>\n",
       "</div>"
      ]
     },
     "execution_count": 38,
     "metadata": {},
     "output_type": "execute_result"
    }
   ],
   "execution_count": 38
  },
  {
   "metadata": {
    "ExecuteTime": {
     "end_time": "2024-06-02T12:37:39.419927Z",
     "start_time": "2024-06-02T12:37:39.396927Z"
    }
   },
   "cell_type": "code",
   "source": "social_df['comment_status'].value_counts()",
   "id": "144a50c88e9c40b",
   "outputs": [
    {
     "data": {
      "text/plain": [
       "comment_status\n",
       "推    63199\n",
       "→    53625\n",
       "噓    10843\n",
       "Name: count, dtype: int64"
      ]
     },
     "execution_count": 39,
     "metadata": {},
     "output_type": "execute_result"
    }
   ],
   "execution_count": 39
  },
  {
   "metadata": {},
   "cell_type": "markdown",
   "source": "# <div style=\"font-family: 'Garamond', serif; font-size: 22px; color: #ffffff; background-color: #34568B; text-align: center; padding: 15px; border-radius: 10px; border: 2px solid #FF6F61; box-shadow: 0 6px 12px rgba(0, 0, 0, 0.3); margin-bottom: 20px;\">Step 3: Network Analysis Of Users and Articles 使用者與文章的網路分析</div>",
   "id": "73bf49984f410c41"
  },
  {
   "metadata": {},
   "cell_type": "markdown",
   "source": "## <div style=\"font-family: 'Lucida Sans Unicode', sans-serif; font-size: 18px; color: #4A235A; background-color: #D7BDE2; text-align: left; padding: 10px; border-left: 5px solid #7D3C98; box-shadow: 0 4px 6px rgba(0, 0, 0, 0.2); margin-bottom: 10px;\">Filter the Data 篩選資料</div>",
   "id": "fb158aba9fe2ccf0"
  },
  {
   "metadata": {
    "ExecuteTime": {
     "end_time": "2024-06-02T12:38:36.250482Z",
     "start_time": "2024-06-02T12:38:36.220483Z"
    }
   },
   "cell_type": "code",
   "source": [
    "def get_top_users(modify_df, n=30):\n",
    "    user_count = Counter(modify_df['artPoster'].tolist() + modify_df['commenters'].tolist())\n",
    "    top_users = {user for user, count in user_count.most_common(n)}\n",
    "    return modify_df[modify_df['artPoster'].isin(top_users) & modify_df['commenters'].isin(top_users)]\n",
    "\n",
    "# Filter edges to include only interactions between top users\n",
    "top_filtered_df = get_top_users(social_df, n=30)\n",
    "\n",
    "top_filtered_df.head()"
   ],
   "id": "59cfeb484ee66e52",
   "outputs": [
    {
     "data": {
      "text/plain": [
       "     artPoster                                             artUrl commenters  \\\n",
       "166  keel90135  https://www.ptt.cc/bbs/Soft_Job/M.1659257932.A...     DrTech   \n",
       "166  keel90135  https://www.ptt.cc/bbs/Soft_Job/M.1659257932.A...     DrTech   \n",
       "166  keel90135  https://www.ptt.cc/bbs/Soft_Job/M.1659257932.A...     DrTech   \n",
       "166  keel90135  https://www.ptt.cc/bbs/Soft_Job/M.1659257932.A...     DrTech   \n",
       "166  keel90135  https://www.ptt.cc/bbs/Soft_Job/M.1659257932.A...     DrTech   \n",
       "\n",
       "    comment_status  \n",
       "166              →  \n",
       "166              →  \n",
       "166              →  \n",
       "166              →  \n",
       "166              →  "
      ],
      "text/html": [
       "<div>\n",
       "<style scoped>\n",
       "    .dataframe tbody tr th:only-of-type {\n",
       "        vertical-align: middle;\n",
       "    }\n",
       "\n",
       "    .dataframe tbody tr th {\n",
       "        vertical-align: top;\n",
       "    }\n",
       "\n",
       "    .dataframe thead th {\n",
       "        text-align: right;\n",
       "    }\n",
       "</style>\n",
       "<table border=\"1\" class=\"dataframe\">\n",
       "  <thead>\n",
       "    <tr style=\"text-align: right;\">\n",
       "      <th></th>\n",
       "      <th>artPoster</th>\n",
       "      <th>artUrl</th>\n",
       "      <th>commenters</th>\n",
       "      <th>comment_status</th>\n",
       "    </tr>\n",
       "  </thead>\n",
       "  <tbody>\n",
       "    <tr>\n",
       "      <th>166</th>\n",
       "      <td>keel90135</td>\n",
       "      <td>https://www.ptt.cc/bbs/Soft_Job/M.1659257932.A...</td>\n",
       "      <td>DrTech</td>\n",
       "      <td>→</td>\n",
       "    </tr>\n",
       "    <tr>\n",
       "      <th>166</th>\n",
       "      <td>keel90135</td>\n",
       "      <td>https://www.ptt.cc/bbs/Soft_Job/M.1659257932.A...</td>\n",
       "      <td>DrTech</td>\n",
       "      <td>→</td>\n",
       "    </tr>\n",
       "    <tr>\n",
       "      <th>166</th>\n",
       "      <td>keel90135</td>\n",
       "      <td>https://www.ptt.cc/bbs/Soft_Job/M.1659257932.A...</td>\n",
       "      <td>DrTech</td>\n",
       "      <td>→</td>\n",
       "    </tr>\n",
       "    <tr>\n",
       "      <th>166</th>\n",
       "      <td>keel90135</td>\n",
       "      <td>https://www.ptt.cc/bbs/Soft_Job/M.1659257932.A...</td>\n",
       "      <td>DrTech</td>\n",
       "      <td>→</td>\n",
       "    </tr>\n",
       "    <tr>\n",
       "      <th>166</th>\n",
       "      <td>keel90135</td>\n",
       "      <td>https://www.ptt.cc/bbs/Soft_Job/M.1659257932.A...</td>\n",
       "      <td>DrTech</td>\n",
       "      <td>→</td>\n",
       "    </tr>\n",
       "  </tbody>\n",
       "</table>\n",
       "</div>"
      ]
     },
     "execution_count": 42,
     "metadata": {},
     "output_type": "execute_result"
    }
   ],
   "execution_count": 42
  },
  {
   "metadata": {},
   "cell_type": "markdown",
   "source": "## <div style=\"font-family: 'Lucida Sans Unicode', sans-serif; font-size: 18px; color: #4A235A; background-color: #D7BDE2; text-align: left; padding: 10px; border-left: 5px solid #7D3C98; box-shadow: 0 4px 6px rgba(0, 0, 0, 0.2); margin-bottom: 10px;\">Transform the Data 轉換資料</div>",
   "id": "e90d4eefe73427a0"
  },
  {
   "metadata": {
    "ExecuteTime": {
     "end_time": "2024-06-02T12:38:37.855161Z",
     "start_time": "2024-06-02T12:38:37.842162Z"
    }
   },
   "cell_type": "code",
   "source": [
    "# 留言者對文章，狀態為 weight\n",
    "re_df = top_filtered_df[['commenters','artUrl','comment_status']].rename(columns = {'commenters':'src','artUrl':'dis','comment_status':'weight'})\n",
    "re_df = re_df[~re_df['src'].isna()]\n",
    "re_df.head()"
   ],
   "id": "3cd90147f26bfc3",
   "outputs": [
    {
     "data": {
      "text/plain": [
       "        src                                                dis weight\n",
       "166  DrTech  https://www.ptt.cc/bbs/Soft_Job/M.1659257932.A...      →\n",
       "166  DrTech  https://www.ptt.cc/bbs/Soft_Job/M.1659257932.A...      →\n",
       "166  DrTech  https://www.ptt.cc/bbs/Soft_Job/M.1659257932.A...      →\n",
       "166  DrTech  https://www.ptt.cc/bbs/Soft_Job/M.1659257932.A...      →\n",
       "166  DrTech  https://www.ptt.cc/bbs/Soft_Job/M.1659257932.A...      →"
      ],
      "text/html": [
       "<div>\n",
       "<style scoped>\n",
       "    .dataframe tbody tr th:only-of-type {\n",
       "        vertical-align: middle;\n",
       "    }\n",
       "\n",
       "    .dataframe tbody tr th {\n",
       "        vertical-align: top;\n",
       "    }\n",
       "\n",
       "    .dataframe thead th {\n",
       "        text-align: right;\n",
       "    }\n",
       "</style>\n",
       "<table border=\"1\" class=\"dataframe\">\n",
       "  <thead>\n",
       "    <tr style=\"text-align: right;\">\n",
       "      <th></th>\n",
       "      <th>src</th>\n",
       "      <th>dis</th>\n",
       "      <th>weight</th>\n",
       "    </tr>\n",
       "  </thead>\n",
       "  <tbody>\n",
       "    <tr>\n",
       "      <th>166</th>\n",
       "      <td>DrTech</td>\n",
       "      <td>https://www.ptt.cc/bbs/Soft_Job/M.1659257932.A...</td>\n",
       "      <td>→</td>\n",
       "    </tr>\n",
       "    <tr>\n",
       "      <th>166</th>\n",
       "      <td>DrTech</td>\n",
       "      <td>https://www.ptt.cc/bbs/Soft_Job/M.1659257932.A...</td>\n",
       "      <td>→</td>\n",
       "    </tr>\n",
       "    <tr>\n",
       "      <th>166</th>\n",
       "      <td>DrTech</td>\n",
       "      <td>https://www.ptt.cc/bbs/Soft_Job/M.1659257932.A...</td>\n",
       "      <td>→</td>\n",
       "    </tr>\n",
       "    <tr>\n",
       "      <th>166</th>\n",
       "      <td>DrTech</td>\n",
       "      <td>https://www.ptt.cc/bbs/Soft_Job/M.1659257932.A...</td>\n",
       "      <td>→</td>\n",
       "    </tr>\n",
       "    <tr>\n",
       "      <th>166</th>\n",
       "      <td>DrTech</td>\n",
       "      <td>https://www.ptt.cc/bbs/Soft_Job/M.1659257932.A...</td>\n",
       "      <td>→</td>\n",
       "    </tr>\n",
       "  </tbody>\n",
       "</table>\n",
       "</div>"
      ]
     },
     "execution_count": 43,
     "metadata": {},
     "output_type": "execute_result"
    }
   ],
   "execution_count": 43
  },
  {
   "metadata": {
    "ExecuteTime": {
     "end_time": "2024-06-02T12:38:38.587328Z",
     "start_time": "2024-06-02T12:38:38.573329Z"
    }
   },
   "cell_type": "code",
   "source": [
    "def convert_status(s):\n",
    "  if s == '推':\n",
    "    return 2\n",
    "  elif s == '→':\n",
    "    return 1\n",
    "  else :\n",
    "    return -1\n",
    "  \n",
    "re_df['weight'] = re_df['weight'].map(convert_status)\n",
    "\n",
    "# 計算某位留言者對某篇文章的總分數\n",
    "re_df = re_df.groupby(['src','dis']).sum().reset_index()\n",
    "re_df"
   ],
   "id": "5c8a223fa68e9e96",
   "outputs": [
    {
     "data": {
      "text/plain": [
       "           src                                                dis  weight\n",
       "0      Cartier  https://www.ptt.cc/bbs/Stock/M.1689924118.A.D9...       2\n",
       "1      DamnDre  https://www.ptt.cc/bbs/Stock/M.1705162613.A.94...       2\n",
       "2      DamnDre  https://www.ptt.cc/bbs/Stock/M.1705765005.A.5C...      -1\n",
       "3       DrTech  https://www.ptt.cc/bbs/Soft_Job/M.1659257932.A...       5\n",
       "4       DrTech  https://www.ptt.cc/bbs/Soft_Job/M.1686219286.A...      11\n",
       "..         ...                                                ...     ...\n",
       "272     xephon  https://www.ptt.cc/bbs/Stock/M.1714179479.A.DD...       1\n",
       "273     xephon  https://www.ptt.cc/bbs/Stock/M.1716983131.A.BD...       3\n",
       "274  yakimochi  https://www.ptt.cc/bbs/Stock/M.1690883012.A.16...       2\n",
       "275  yakimochi  https://www.ptt.cc/bbs/Stock/M.1695649551.A.97...       1\n",
       "276  yakimochi  https://www.ptt.cc/bbs/Stock/M.1716168479.A.2B...       2\n",
       "\n",
       "[277 rows x 3 columns]"
      ],
      "text/html": [
       "<div>\n",
       "<style scoped>\n",
       "    .dataframe tbody tr th:only-of-type {\n",
       "        vertical-align: middle;\n",
       "    }\n",
       "\n",
       "    .dataframe tbody tr th {\n",
       "        vertical-align: top;\n",
       "    }\n",
       "\n",
       "    .dataframe thead th {\n",
       "        text-align: right;\n",
       "    }\n",
       "</style>\n",
       "<table border=\"1\" class=\"dataframe\">\n",
       "  <thead>\n",
       "    <tr style=\"text-align: right;\">\n",
       "      <th></th>\n",
       "      <th>src</th>\n",
       "      <th>dis</th>\n",
       "      <th>weight</th>\n",
       "    </tr>\n",
       "  </thead>\n",
       "  <tbody>\n",
       "    <tr>\n",
       "      <th>0</th>\n",
       "      <td>Cartier</td>\n",
       "      <td>https://www.ptt.cc/bbs/Stock/M.1689924118.A.D9...</td>\n",
       "      <td>2</td>\n",
       "    </tr>\n",
       "    <tr>\n",
       "      <th>1</th>\n",
       "      <td>DamnDre</td>\n",
       "      <td>https://www.ptt.cc/bbs/Stock/M.1705162613.A.94...</td>\n",
       "      <td>2</td>\n",
       "    </tr>\n",
       "    <tr>\n",
       "      <th>2</th>\n",
       "      <td>DamnDre</td>\n",
       "      <td>https://www.ptt.cc/bbs/Stock/M.1705765005.A.5C...</td>\n",
       "      <td>-1</td>\n",
       "    </tr>\n",
       "    <tr>\n",
       "      <th>3</th>\n",
       "      <td>DrTech</td>\n",
       "      <td>https://www.ptt.cc/bbs/Soft_Job/M.1659257932.A...</td>\n",
       "      <td>5</td>\n",
       "    </tr>\n",
       "    <tr>\n",
       "      <th>4</th>\n",
       "      <td>DrTech</td>\n",
       "      <td>https://www.ptt.cc/bbs/Soft_Job/M.1686219286.A...</td>\n",
       "      <td>11</td>\n",
       "    </tr>\n",
       "    <tr>\n",
       "      <th>...</th>\n",
       "      <td>...</td>\n",
       "      <td>...</td>\n",
       "      <td>...</td>\n",
       "    </tr>\n",
       "    <tr>\n",
       "      <th>272</th>\n",
       "      <td>xephon</td>\n",
       "      <td>https://www.ptt.cc/bbs/Stock/M.1714179479.A.DD...</td>\n",
       "      <td>1</td>\n",
       "    </tr>\n",
       "    <tr>\n",
       "      <th>273</th>\n",
       "      <td>xephon</td>\n",
       "      <td>https://www.ptt.cc/bbs/Stock/M.1716983131.A.BD...</td>\n",
       "      <td>3</td>\n",
       "    </tr>\n",
       "    <tr>\n",
       "      <th>274</th>\n",
       "      <td>yakimochi</td>\n",
       "      <td>https://www.ptt.cc/bbs/Stock/M.1690883012.A.16...</td>\n",
       "      <td>2</td>\n",
       "    </tr>\n",
       "    <tr>\n",
       "      <th>275</th>\n",
       "      <td>yakimochi</td>\n",
       "      <td>https://www.ptt.cc/bbs/Stock/M.1695649551.A.97...</td>\n",
       "      <td>1</td>\n",
       "    </tr>\n",
       "    <tr>\n",
       "      <th>276</th>\n",
       "      <td>yakimochi</td>\n",
       "      <td>https://www.ptt.cc/bbs/Stock/M.1716168479.A.2B...</td>\n",
       "      <td>2</td>\n",
       "    </tr>\n",
       "  </tbody>\n",
       "</table>\n",
       "<p>277 rows × 3 columns</p>\n",
       "</div>"
      ]
     },
     "execution_count": 44,
     "metadata": {},
     "output_type": "execute_result"
    }
   ],
   "execution_count": 44
  },
  {
   "metadata": {},
   "cell_type": "markdown",
   "source": "## <div style=\"font-family: 'Lucida Sans Unicode', sans-serif; font-size: 18px; color: #4A235A; background-color: #D7BDE2; text-align: left; padding: 10px; border-left: 5px solid #7D3C98; box-shadow: 0 4px 6px rgba(0, 0, 0, 0.2); margin-bottom: 10px;\">Create the Network for users and articles 建立使用者與文章的網路</div>",
   "id": "2a65a71d575bd365"
  },
  {
   "metadata": {
    "ExecuteTime": {
     "end_time": "2024-06-02T12:38:39.647624Z",
     "start_time": "2024-06-02T12:38:39.638622Z"
    }
   },
   "cell_type": "code",
   "source": [
    "# 設定分數低的為紅色\n",
    "def get_color(w):\n",
    "  if w>0:\n",
    "    return 'green'\n",
    "  else:\n",
    "    return 'red'\n",
    "  \n",
    "re_df['color'] = re_df.weight.map(get_color)\n",
    "re_df"
   ],
   "id": "2074d669650b8fce",
   "outputs": [
    {
     "data": {
      "text/plain": [
       "           src                                                dis  weight  \\\n",
       "0      Cartier  https://www.ptt.cc/bbs/Stock/M.1689924118.A.D9...       2   \n",
       "1      DamnDre  https://www.ptt.cc/bbs/Stock/M.1705162613.A.94...       2   \n",
       "2      DamnDre  https://www.ptt.cc/bbs/Stock/M.1705765005.A.5C...      -1   \n",
       "3       DrTech  https://www.ptt.cc/bbs/Soft_Job/M.1659257932.A...       5   \n",
       "4       DrTech  https://www.ptt.cc/bbs/Soft_Job/M.1686219286.A...      11   \n",
       "..         ...                                                ...     ...   \n",
       "272     xephon  https://www.ptt.cc/bbs/Stock/M.1714179479.A.DD...       1   \n",
       "273     xephon  https://www.ptt.cc/bbs/Stock/M.1716983131.A.BD...       3   \n",
       "274  yakimochi  https://www.ptt.cc/bbs/Stock/M.1690883012.A.16...       2   \n",
       "275  yakimochi  https://www.ptt.cc/bbs/Stock/M.1695649551.A.97...       1   \n",
       "276  yakimochi  https://www.ptt.cc/bbs/Stock/M.1716168479.A.2B...       2   \n",
       "\n",
       "     color  \n",
       "0    green  \n",
       "1    green  \n",
       "2      red  \n",
       "3    green  \n",
       "4    green  \n",
       "..     ...  \n",
       "272  green  \n",
       "273  green  \n",
       "274  green  \n",
       "275  green  \n",
       "276  green  \n",
       "\n",
       "[277 rows x 4 columns]"
      ],
      "text/html": [
       "<div>\n",
       "<style scoped>\n",
       "    .dataframe tbody tr th:only-of-type {\n",
       "        vertical-align: middle;\n",
       "    }\n",
       "\n",
       "    .dataframe tbody tr th {\n",
       "        vertical-align: top;\n",
       "    }\n",
       "\n",
       "    .dataframe thead th {\n",
       "        text-align: right;\n",
       "    }\n",
       "</style>\n",
       "<table border=\"1\" class=\"dataframe\">\n",
       "  <thead>\n",
       "    <tr style=\"text-align: right;\">\n",
       "      <th></th>\n",
       "      <th>src</th>\n",
       "      <th>dis</th>\n",
       "      <th>weight</th>\n",
       "      <th>color</th>\n",
       "    </tr>\n",
       "  </thead>\n",
       "  <tbody>\n",
       "    <tr>\n",
       "      <th>0</th>\n",
       "      <td>Cartier</td>\n",
       "      <td>https://www.ptt.cc/bbs/Stock/M.1689924118.A.D9...</td>\n",
       "      <td>2</td>\n",
       "      <td>green</td>\n",
       "    </tr>\n",
       "    <tr>\n",
       "      <th>1</th>\n",
       "      <td>DamnDre</td>\n",
       "      <td>https://www.ptt.cc/bbs/Stock/M.1705162613.A.94...</td>\n",
       "      <td>2</td>\n",
       "      <td>green</td>\n",
       "    </tr>\n",
       "    <tr>\n",
       "      <th>2</th>\n",
       "      <td>DamnDre</td>\n",
       "      <td>https://www.ptt.cc/bbs/Stock/M.1705765005.A.5C...</td>\n",
       "      <td>-1</td>\n",
       "      <td>red</td>\n",
       "    </tr>\n",
       "    <tr>\n",
       "      <th>3</th>\n",
       "      <td>DrTech</td>\n",
       "      <td>https://www.ptt.cc/bbs/Soft_Job/M.1659257932.A...</td>\n",
       "      <td>5</td>\n",
       "      <td>green</td>\n",
       "    </tr>\n",
       "    <tr>\n",
       "      <th>4</th>\n",
       "      <td>DrTech</td>\n",
       "      <td>https://www.ptt.cc/bbs/Soft_Job/M.1686219286.A...</td>\n",
       "      <td>11</td>\n",
       "      <td>green</td>\n",
       "    </tr>\n",
       "    <tr>\n",
       "      <th>...</th>\n",
       "      <td>...</td>\n",
       "      <td>...</td>\n",
       "      <td>...</td>\n",
       "      <td>...</td>\n",
       "    </tr>\n",
       "    <tr>\n",
       "      <th>272</th>\n",
       "      <td>xephon</td>\n",
       "      <td>https://www.ptt.cc/bbs/Stock/M.1714179479.A.DD...</td>\n",
       "      <td>1</td>\n",
       "      <td>green</td>\n",
       "    </tr>\n",
       "    <tr>\n",
       "      <th>273</th>\n",
       "      <td>xephon</td>\n",
       "      <td>https://www.ptt.cc/bbs/Stock/M.1716983131.A.BD...</td>\n",
       "      <td>3</td>\n",
       "      <td>green</td>\n",
       "    </tr>\n",
       "    <tr>\n",
       "      <th>274</th>\n",
       "      <td>yakimochi</td>\n",
       "      <td>https://www.ptt.cc/bbs/Stock/M.1690883012.A.16...</td>\n",
       "      <td>2</td>\n",
       "      <td>green</td>\n",
       "    </tr>\n",
       "    <tr>\n",
       "      <th>275</th>\n",
       "      <td>yakimochi</td>\n",
       "      <td>https://www.ptt.cc/bbs/Stock/M.1695649551.A.97...</td>\n",
       "      <td>1</td>\n",
       "      <td>green</td>\n",
       "    </tr>\n",
       "    <tr>\n",
       "      <th>276</th>\n",
       "      <td>yakimochi</td>\n",
       "      <td>https://www.ptt.cc/bbs/Stock/M.1716168479.A.2B...</td>\n",
       "      <td>2</td>\n",
       "      <td>green</td>\n",
       "    </tr>\n",
       "  </tbody>\n",
       "</table>\n",
       "<p>277 rows × 4 columns</p>\n",
       "</div>"
      ]
     },
     "execution_count": 45,
     "metadata": {},
     "output_type": "execute_result"
    }
   ],
   "execution_count": 45
  },
  {
   "metadata": {
    "ExecuteTime": {
     "end_time": "2024-06-02T12:38:40.335452Z",
     "start_time": "2024-06-02T12:38:40.320454Z"
    }
   },
   "cell_type": "code",
   "source": [
    "# 發文者對文章\n",
    "po_df = top_filtered_df[['artPoster', 'artUrl']].rename(columns={'artPoster': 'src', 'artUrl': 'dis'}).drop_duplicates()"
   ],
   "id": "284e6c29d7f43811",
   "outputs": [],
   "execution_count": 46
  },
  {
   "metadata": {
    "ExecuteTime": {
     "end_time": "2024-06-02T12:38:41.209672Z",
     "start_time": "2024-06-02T12:38:41.145671Z"
    }
   },
   "cell_type": "code",
   "source": [
    "# 人為綠色節點 po文為橘色節點\n",
    "\n",
    "# 建立一個網路圖\n",
    "netWork = Network(notebook=True, cdn_resources='in_line', directed=True)\n",
    "\n",
    "# 所有發文者＋留言者\n",
    "person = list(set(po_df.src.unique().tolist() + re_df.src.unique().tolist()))\n",
    "url = po_df.dis.unique().tolist()\n",
    "\n",
    "# 加入節點（人）\n",
    "netWork.add_nodes(\n",
    "    nodes=person,\n",
    "    value=[1 for i in range(len(person))],\n",
    "    color=['#66CDAA' for i in range(len(person))],\n",
    "    title=person\n",
    ")\n",
    "\n",
    "# 加入節點（文章）\n",
    "netWork.add_nodes(\n",
    "    nodes=url,\n",
    "    value=[2 for i in range(len(url))],\n",
    "    color=['#FFB366' for i in range(len(url))],\n",
    "    title=url\n",
    ")\n",
    "\n",
    "# 加入邊（發文者 -> 文章）\n",
    "for i in po_df.to_numpy():\n",
    "    netWork.add_edge(i[0], i[1], width=2, color='grey')\n",
    "# 加入邊（留言者 -> 文章），顏色為某發文者對該文章的總分（>0:綠; <=0:紅）\n",
    "for i in re_df.to_numpy():\n",
    "    netWork.add_edge(i[0], i[1], width=2, color=i[3])\n",
    "\n",
    "# 設定layout，圖節點之間的斥力\n",
    "netWork.repulsion()\n",
    "\n",
    "if not os.path.exists('plot'):\n",
    "    os.makedirs('plot')\n",
    "\n",
    "netWork.show('plot/Network.html')"
   ],
   "id": "b5f8107f7a1b0393",
   "outputs": [
    {
     "name": "stdout",
     "output_type": "stream",
     "text": [
      "plot/Network.html\n"
     ]
    },
    {
     "data": {
      "text/plain": [
       "<IPython.lib.display.IFrame at 0x1e2c68cbb50>"
      ],
      "text/html": [
       "\n",
       "        <iframe\n",
       "            width=\"100%\"\n",
       "            height=\"600px\"\n",
       "            src=\"plot/Network.html\"\n",
       "            frameborder=\"0\"\n",
       "            allowfullscreen\n",
       "            \n",
       "        ></iframe>\n",
       "        "
      ]
     },
     "execution_count": 47,
     "metadata": {},
     "output_type": "execute_result"
    }
   ],
   "execution_count": 47
  },
  {
   "metadata": {},
   "cell_type": "markdown",
   "source": "# <div style=\"font-family: 'Garamond', serif; font-size: 22px; color: #ffffff; background-color: #34568B; text-align: center; padding: 15px; border-radius: 10px; border: 2px solid #FF6F61; box-shadow: 0 6px 12px rgba(0, 0, 0, 0.3); margin-bottom: 20px;\">Step 4: Interaction within Users 使用者之間的互動</div>",
   "id": "53b9621e200bef04"
  },
  {
   "metadata": {},
   "cell_type": "markdown",
   "source": "## <div style=\"font-family: 'Lucida Sans Unicode', sans-serif; font-size: 18px; color: #4A235A; background-color: #D7BDE2; text-align: left; padding: 10px; border-left: 5px solid #7D3C98; box-shadow: 0 4px 6px rgba(0, 0, 0, 0.2); margin-bottom: 10px;\">Select the Top Users 選擇前幾名使用者</div>",
   "id": "704ce3b68024e8d0"
  },
  {
   "metadata": {
    "ExecuteTime": {
     "end_time": "2024-06-02T12:44:50.597912Z",
     "start_time": "2024-06-02T12:44:50.559913Z"
    }
   },
   "cell_type": "code",
   "source": [
    "pos_comment = get_top_users(social_df, n=100)\n",
    "pos_comment = pos_comment[~pos_comment['commenters'].isna()]\n",
    "pos_comment.head(10)"
   ],
   "id": "3da16040ce690117",
   "outputs": [
    {
     "data": {
      "text/plain": [
       "     artPoster                                             artUrl commenters  \\\n",
       "166  keel90135  https://www.ptt.cc/bbs/Soft_Job/M.1659257932.A...     DrTech   \n",
       "166  keel90135  https://www.ptt.cc/bbs/Soft_Job/M.1659257932.A...     DrTech   \n",
       "166  keel90135  https://www.ptt.cc/bbs/Soft_Job/M.1659257932.A...     DrTech   \n",
       "166  keel90135  https://www.ptt.cc/bbs/Soft_Job/M.1659257932.A...     DrTech   \n",
       "166  keel90135  https://www.ptt.cc/bbs/Soft_Job/M.1659257932.A...     DrTech   \n",
       "166  keel90135  https://www.ptt.cc/bbs/Soft_Job/M.1659257932.A...  keel90135   \n",
       "174   sxy67230  https://www.ptt.cc/bbs/Soft_Job/M.1668259766.A...     strlen   \n",
       "174   sxy67230  https://www.ptt.cc/bbs/Soft_Job/M.1668259766.A...     strlen   \n",
       "196     DrTech  https://www.ptt.cc/bbs/Soft_Job/M.1686219286.A...     DrTech   \n",
       "196     DrTech  https://www.ptt.cc/bbs/Soft_Job/M.1686219286.A...     DrTech   \n",
       "\n",
       "    comment_status  \n",
       "166              →  \n",
       "166              →  \n",
       "166              →  \n",
       "166              →  \n",
       "166              →  \n",
       "166              →  \n",
       "174              →  \n",
       "174              →  \n",
       "196              →  \n",
       "196              →  "
      ],
      "text/html": [
       "<div>\n",
       "<style scoped>\n",
       "    .dataframe tbody tr th:only-of-type {\n",
       "        vertical-align: middle;\n",
       "    }\n",
       "\n",
       "    .dataframe tbody tr th {\n",
       "        vertical-align: top;\n",
       "    }\n",
       "\n",
       "    .dataframe thead th {\n",
       "        text-align: right;\n",
       "    }\n",
       "</style>\n",
       "<table border=\"1\" class=\"dataframe\">\n",
       "  <thead>\n",
       "    <tr style=\"text-align: right;\">\n",
       "      <th></th>\n",
       "      <th>artPoster</th>\n",
       "      <th>artUrl</th>\n",
       "      <th>commenters</th>\n",
       "      <th>comment_status</th>\n",
       "    </tr>\n",
       "  </thead>\n",
       "  <tbody>\n",
       "    <tr>\n",
       "      <th>166</th>\n",
       "      <td>keel90135</td>\n",
       "      <td>https://www.ptt.cc/bbs/Soft_Job/M.1659257932.A...</td>\n",
       "      <td>DrTech</td>\n",
       "      <td>→</td>\n",
       "    </tr>\n",
       "    <tr>\n",
       "      <th>166</th>\n",
       "      <td>keel90135</td>\n",
       "      <td>https://www.ptt.cc/bbs/Soft_Job/M.1659257932.A...</td>\n",
       "      <td>DrTech</td>\n",
       "      <td>→</td>\n",
       "    </tr>\n",
       "    <tr>\n",
       "      <th>166</th>\n",
       "      <td>keel90135</td>\n",
       "      <td>https://www.ptt.cc/bbs/Soft_Job/M.1659257932.A...</td>\n",
       "      <td>DrTech</td>\n",
       "      <td>→</td>\n",
       "    </tr>\n",
       "    <tr>\n",
       "      <th>166</th>\n",
       "      <td>keel90135</td>\n",
       "      <td>https://www.ptt.cc/bbs/Soft_Job/M.1659257932.A...</td>\n",
       "      <td>DrTech</td>\n",
       "      <td>→</td>\n",
       "    </tr>\n",
       "    <tr>\n",
       "      <th>166</th>\n",
       "      <td>keel90135</td>\n",
       "      <td>https://www.ptt.cc/bbs/Soft_Job/M.1659257932.A...</td>\n",
       "      <td>DrTech</td>\n",
       "      <td>→</td>\n",
       "    </tr>\n",
       "    <tr>\n",
       "      <th>166</th>\n",
       "      <td>keel90135</td>\n",
       "      <td>https://www.ptt.cc/bbs/Soft_Job/M.1659257932.A...</td>\n",
       "      <td>keel90135</td>\n",
       "      <td>→</td>\n",
       "    </tr>\n",
       "    <tr>\n",
       "      <th>174</th>\n",
       "      <td>sxy67230</td>\n",
       "      <td>https://www.ptt.cc/bbs/Soft_Job/M.1668259766.A...</td>\n",
       "      <td>strlen</td>\n",
       "      <td>→</td>\n",
       "    </tr>\n",
       "    <tr>\n",
       "      <th>174</th>\n",
       "      <td>sxy67230</td>\n",
       "      <td>https://www.ptt.cc/bbs/Soft_Job/M.1668259766.A...</td>\n",
       "      <td>strlen</td>\n",
       "      <td>→</td>\n",
       "    </tr>\n",
       "    <tr>\n",
       "      <th>196</th>\n",
       "      <td>DrTech</td>\n",
       "      <td>https://www.ptt.cc/bbs/Soft_Job/M.1686219286.A...</td>\n",
       "      <td>DrTech</td>\n",
       "      <td>→</td>\n",
       "    </tr>\n",
       "    <tr>\n",
       "      <th>196</th>\n",
       "      <td>DrTech</td>\n",
       "      <td>https://www.ptt.cc/bbs/Soft_Job/M.1686219286.A...</td>\n",
       "      <td>DrTech</td>\n",
       "      <td>→</td>\n",
       "    </tr>\n",
       "  </tbody>\n",
       "</table>\n",
       "</div>"
      ]
     },
     "execution_count": 80,
     "metadata": {},
     "output_type": "execute_result"
    }
   ],
   "execution_count": 80
  },
  {
   "metadata": {},
   "cell_type": "markdown",
   "source": "## <div style=\"font-family: 'Lucida Sans Unicode', sans-serif; font-size: 18px; color: #4A235A; background-color: #D7BDE2; text-align: left; padding: 10px; border-left: 5px solid #7D3C98; box-shadow: 0 4px 6px rgba(0, 0, 0, 0.2); margin-bottom: 10px;\">Calculate the score 計算分數</div>",
   "id": "9974e8f410f7087c"
  },
  {
   "metadata": {
    "ExecuteTime": {
     "end_time": "2024-06-02T12:44:51.389939Z",
     "start_time": "2024-06-02T12:44:51.365914Z"
    }
   },
   "cell_type": "code",
   "source": [
    "pos_comment['score'] = pos_comment['comment_status'].apply(lambda r: convert_status(r))\n",
    "\n",
    "# 某留言者對某發文者的總分\n",
    "pos_comment = pos_comment.groupby(['commenters', 'artPoster']).sum('score').reset_index()\n",
    "pos_comment = pos_comment[pos_comment.score >= 0]\n",
    "pos_comment = pos_comment[pos_comment['commenters'] != pos_comment.artPoster]\n",
    "\n",
    "pos_comment"
   ],
   "id": "9ae7cb2b7ef31720",
   "outputs": [
    {
     "data": {
      "text/plain": [
       "     commenters     artPoster  score\n",
       "0       Cartier     yakimochi      2\n",
       "1        DDDDRR  DrowningPool      8\n",
       "2        DDDDRR   IzumiKonata      7\n",
       "3        DDDDRR      Lime5566      2\n",
       "4        DDDDRR   addy7533967      8\n",
       "...         ...           ...    ...\n",
       "1023       yunf   qwe22992168      6\n",
       "1024       yunf      stpiknow     17\n",
       "1025       yunf        strlen      2\n",
       "1026       yunf      sxy67230      5\n",
       "1027       yunf     ynlin1996     16\n",
       "\n",
       "[881 rows x 3 columns]"
      ],
      "text/html": [
       "<div>\n",
       "<style scoped>\n",
       "    .dataframe tbody tr th:only-of-type {\n",
       "        vertical-align: middle;\n",
       "    }\n",
       "\n",
       "    .dataframe tbody tr th {\n",
       "        vertical-align: top;\n",
       "    }\n",
       "\n",
       "    .dataframe thead th {\n",
       "        text-align: right;\n",
       "    }\n",
       "</style>\n",
       "<table border=\"1\" class=\"dataframe\">\n",
       "  <thead>\n",
       "    <tr style=\"text-align: right;\">\n",
       "      <th></th>\n",
       "      <th>commenters</th>\n",
       "      <th>artPoster</th>\n",
       "      <th>score</th>\n",
       "    </tr>\n",
       "  </thead>\n",
       "  <tbody>\n",
       "    <tr>\n",
       "      <th>0</th>\n",
       "      <td>Cartier</td>\n",
       "      <td>yakimochi</td>\n",
       "      <td>2</td>\n",
       "    </tr>\n",
       "    <tr>\n",
       "      <th>1</th>\n",
       "      <td>DDDDRR</td>\n",
       "      <td>DrowningPool</td>\n",
       "      <td>8</td>\n",
       "    </tr>\n",
       "    <tr>\n",
       "      <th>2</th>\n",
       "      <td>DDDDRR</td>\n",
       "      <td>IzumiKonata</td>\n",
       "      <td>7</td>\n",
       "    </tr>\n",
       "    <tr>\n",
       "      <th>3</th>\n",
       "      <td>DDDDRR</td>\n",
       "      <td>Lime5566</td>\n",
       "      <td>2</td>\n",
       "    </tr>\n",
       "    <tr>\n",
       "      <th>4</th>\n",
       "      <td>DDDDRR</td>\n",
       "      <td>addy7533967</td>\n",
       "      <td>8</td>\n",
       "    </tr>\n",
       "    <tr>\n",
       "      <th>...</th>\n",
       "      <td>...</td>\n",
       "      <td>...</td>\n",
       "      <td>...</td>\n",
       "    </tr>\n",
       "    <tr>\n",
       "      <th>1023</th>\n",
       "      <td>yunf</td>\n",
       "      <td>qwe22992168</td>\n",
       "      <td>6</td>\n",
       "    </tr>\n",
       "    <tr>\n",
       "      <th>1024</th>\n",
       "      <td>yunf</td>\n",
       "      <td>stpiknow</td>\n",
       "      <td>17</td>\n",
       "    </tr>\n",
       "    <tr>\n",
       "      <th>1025</th>\n",
       "      <td>yunf</td>\n",
       "      <td>strlen</td>\n",
       "      <td>2</td>\n",
       "    </tr>\n",
       "    <tr>\n",
       "      <th>1026</th>\n",
       "      <td>yunf</td>\n",
       "      <td>sxy67230</td>\n",
       "      <td>5</td>\n",
       "    </tr>\n",
       "    <tr>\n",
       "      <th>1027</th>\n",
       "      <td>yunf</td>\n",
       "      <td>ynlin1996</td>\n",
       "      <td>16</td>\n",
       "    </tr>\n",
       "  </tbody>\n",
       "</table>\n",
       "<p>881 rows × 3 columns</p>\n",
       "</div>"
      ]
     },
     "execution_count": 81,
     "metadata": {},
     "output_type": "execute_result"
    }
   ],
   "execution_count": 81
  },
  {
   "metadata": {},
   "cell_type": "markdown",
   "source": "## <div style=\"font-family: 'Lucida Sans Unicode', sans-serif; font-size: 18px; color: #4A235A; background-color: #D7BDE2; text-align: left; padding: 10px; border-left: 5px solid #7D3C98; box-shadow: 0 4px 6px rgba(0, 0, 0, 0.2); margin-bottom: 10px;\">Create the Interaction Matrix 建立互動矩陣</div>",
   "id": "77e1fa0e730d0423"
  },
  {
   "metadata": {
    "ExecuteTime": {
     "end_time": "2024-06-02T12:44:52.097969Z",
     "start_time": "2024-06-02T12:44:52.069971Z"
    }
   },
   "cell_type": "code",
   "source": [
    "matrix = pd.pivot_table(pos_comment, index='commenters', columns='artPoster', values='score').fillna(0)\n",
    "matrix.head()"
   ],
   "id": "80394e8ad77bd4eb",
   "outputs": [
    {
     "data": {
      "text/plain": [
       "artPoster     AAAB  Angels5566  Cartier  DDDDRR  DamnDre  DrTech  \\\n",
       "commenters                                                         \n",
       "Cartier        0.0         0.0      0.0     0.0      0.0     0.0   \n",
       "DDDDRR         0.0         0.0      0.0     0.0      0.0     0.0   \n",
       "DamnDre        0.0         0.0      0.0     0.0      0.0     0.0   \n",
       "DrTech        10.0         9.0      0.0     0.0      0.0     0.0   \n",
       "DrowningPool   0.0         0.0      2.0     0.0      0.0     0.0   \n",
       "\n",
       "artPoster     DrowningPool  GivemeApen  GuanLaoBan  IzumiKonata  ...  \\\n",
       "commenters                                                       ...   \n",
       "Cartier                0.0         0.0         0.0          0.0  ...   \n",
       "DDDDRR                 8.0         0.0         0.0          7.0  ...   \n",
       "DamnDre                1.0         0.0         0.0          0.0  ...   \n",
       "DrTech                 0.0         0.0         9.0          0.0  ...   \n",
       "DrowningPool           0.0         0.0         0.0          0.0  ...   \n",
       "\n",
       "artPoster     sxy67230  thinksilver  troy30408  wen9008  winall  xa9277178  \\\n",
       "commenters                                                                   \n",
       "Cartier            0.0          0.0        0.0      0.0     0.0        0.0   \n",
       "DDDDRR             0.0          0.0        0.0      0.0     0.0        0.0   \n",
       "DamnDre            0.0          0.0        0.0      0.0     0.0        0.0   \n",
       "DrTech            41.0          0.0        0.0      0.0     0.0        0.0   \n",
       "DrowningPool       0.0          0.0        0.0      0.0     0.0        0.0   \n",
       "\n",
       "artPoster     xephon  yakimochi  ynlin1996  yogo3388  \n",
       "commenters                                            \n",
       "Cartier          0.0        2.0        0.0       0.0  \n",
       "DDDDRR           2.0       13.0        0.0       0.0  \n",
       "DamnDre          0.0        0.0        0.0       0.0  \n",
       "DrTech           0.0        0.0        3.0       0.0  \n",
       "DrowningPool     0.0        0.0        0.0       0.0  \n",
       "\n",
       "[5 rows x 93 columns]"
      ],
      "text/html": [
       "<div>\n",
       "<style scoped>\n",
       "    .dataframe tbody tr th:only-of-type {\n",
       "        vertical-align: middle;\n",
       "    }\n",
       "\n",
       "    .dataframe tbody tr th {\n",
       "        vertical-align: top;\n",
       "    }\n",
       "\n",
       "    .dataframe thead th {\n",
       "        text-align: right;\n",
       "    }\n",
       "</style>\n",
       "<table border=\"1\" class=\"dataframe\">\n",
       "  <thead>\n",
       "    <tr style=\"text-align: right;\">\n",
       "      <th>artPoster</th>\n",
       "      <th>AAAB</th>\n",
       "      <th>Angels5566</th>\n",
       "      <th>Cartier</th>\n",
       "      <th>DDDDRR</th>\n",
       "      <th>DamnDre</th>\n",
       "      <th>DrTech</th>\n",
       "      <th>DrowningPool</th>\n",
       "      <th>GivemeApen</th>\n",
       "      <th>GuanLaoBan</th>\n",
       "      <th>IzumiKonata</th>\n",
       "      <th>...</th>\n",
       "      <th>sxy67230</th>\n",
       "      <th>thinksilver</th>\n",
       "      <th>troy30408</th>\n",
       "      <th>wen9008</th>\n",
       "      <th>winall</th>\n",
       "      <th>xa9277178</th>\n",
       "      <th>xephon</th>\n",
       "      <th>yakimochi</th>\n",
       "      <th>ynlin1996</th>\n",
       "      <th>yogo3388</th>\n",
       "    </tr>\n",
       "    <tr>\n",
       "      <th>commenters</th>\n",
       "      <th></th>\n",
       "      <th></th>\n",
       "      <th></th>\n",
       "      <th></th>\n",
       "      <th></th>\n",
       "      <th></th>\n",
       "      <th></th>\n",
       "      <th></th>\n",
       "      <th></th>\n",
       "      <th></th>\n",
       "      <th></th>\n",
       "      <th></th>\n",
       "      <th></th>\n",
       "      <th></th>\n",
       "      <th></th>\n",
       "      <th></th>\n",
       "      <th></th>\n",
       "      <th></th>\n",
       "      <th></th>\n",
       "      <th></th>\n",
       "      <th></th>\n",
       "    </tr>\n",
       "  </thead>\n",
       "  <tbody>\n",
       "    <tr>\n",
       "      <th>Cartier</th>\n",
       "      <td>0.0</td>\n",
       "      <td>0.0</td>\n",
       "      <td>0.0</td>\n",
       "      <td>0.0</td>\n",
       "      <td>0.0</td>\n",
       "      <td>0.0</td>\n",
       "      <td>0.0</td>\n",
       "      <td>0.0</td>\n",
       "      <td>0.0</td>\n",
       "      <td>0.0</td>\n",
       "      <td>...</td>\n",
       "      <td>0.0</td>\n",
       "      <td>0.0</td>\n",
       "      <td>0.0</td>\n",
       "      <td>0.0</td>\n",
       "      <td>0.0</td>\n",
       "      <td>0.0</td>\n",
       "      <td>0.0</td>\n",
       "      <td>2.0</td>\n",
       "      <td>0.0</td>\n",
       "      <td>0.0</td>\n",
       "    </tr>\n",
       "    <tr>\n",
       "      <th>DDDDRR</th>\n",
       "      <td>0.0</td>\n",
       "      <td>0.0</td>\n",
       "      <td>0.0</td>\n",
       "      <td>0.0</td>\n",
       "      <td>0.0</td>\n",
       "      <td>0.0</td>\n",
       "      <td>8.0</td>\n",
       "      <td>0.0</td>\n",
       "      <td>0.0</td>\n",
       "      <td>7.0</td>\n",
       "      <td>...</td>\n",
       "      <td>0.0</td>\n",
       "      <td>0.0</td>\n",
       "      <td>0.0</td>\n",
       "      <td>0.0</td>\n",
       "      <td>0.0</td>\n",
       "      <td>0.0</td>\n",
       "      <td>2.0</td>\n",
       "      <td>13.0</td>\n",
       "      <td>0.0</td>\n",
       "      <td>0.0</td>\n",
       "    </tr>\n",
       "    <tr>\n",
       "      <th>DamnDre</th>\n",
       "      <td>0.0</td>\n",
       "      <td>0.0</td>\n",
       "      <td>0.0</td>\n",
       "      <td>0.0</td>\n",
       "      <td>0.0</td>\n",
       "      <td>0.0</td>\n",
       "      <td>1.0</td>\n",
       "      <td>0.0</td>\n",
       "      <td>0.0</td>\n",
       "      <td>0.0</td>\n",
       "      <td>...</td>\n",
       "      <td>0.0</td>\n",
       "      <td>0.0</td>\n",
       "      <td>0.0</td>\n",
       "      <td>0.0</td>\n",
       "      <td>0.0</td>\n",
       "      <td>0.0</td>\n",
       "      <td>0.0</td>\n",
       "      <td>0.0</td>\n",
       "      <td>0.0</td>\n",
       "      <td>0.0</td>\n",
       "    </tr>\n",
       "    <tr>\n",
       "      <th>DrTech</th>\n",
       "      <td>10.0</td>\n",
       "      <td>9.0</td>\n",
       "      <td>0.0</td>\n",
       "      <td>0.0</td>\n",
       "      <td>0.0</td>\n",
       "      <td>0.0</td>\n",
       "      <td>0.0</td>\n",
       "      <td>0.0</td>\n",
       "      <td>9.0</td>\n",
       "      <td>0.0</td>\n",
       "      <td>...</td>\n",
       "      <td>41.0</td>\n",
       "      <td>0.0</td>\n",
       "      <td>0.0</td>\n",
       "      <td>0.0</td>\n",
       "      <td>0.0</td>\n",
       "      <td>0.0</td>\n",
       "      <td>0.0</td>\n",
       "      <td>0.0</td>\n",
       "      <td>3.0</td>\n",
       "      <td>0.0</td>\n",
       "    </tr>\n",
       "    <tr>\n",
       "      <th>DrowningPool</th>\n",
       "      <td>0.0</td>\n",
       "      <td>0.0</td>\n",
       "      <td>2.0</td>\n",
       "      <td>0.0</td>\n",
       "      <td>0.0</td>\n",
       "      <td>0.0</td>\n",
       "      <td>0.0</td>\n",
       "      <td>0.0</td>\n",
       "      <td>0.0</td>\n",
       "      <td>0.0</td>\n",
       "      <td>...</td>\n",
       "      <td>0.0</td>\n",
       "      <td>0.0</td>\n",
       "      <td>0.0</td>\n",
       "      <td>0.0</td>\n",
       "      <td>0.0</td>\n",
       "      <td>0.0</td>\n",
       "      <td>0.0</td>\n",
       "      <td>0.0</td>\n",
       "      <td>0.0</td>\n",
       "      <td>0.0</td>\n",
       "    </tr>\n",
       "  </tbody>\n",
       "</table>\n",
       "<p>5 rows × 93 columns</p>\n",
       "</div>"
      ]
     },
     "execution_count": 82,
     "metadata": {},
     "output_type": "execute_result"
    }
   ],
   "execution_count": 82
  },
  {
   "metadata": {
    "ExecuteTime": {
     "end_time": "2024-06-02T12:44:54.960010Z",
     "start_time": "2024-06-02T12:44:54.944009Z"
    }
   },
   "cell_type": "code",
   "source": [
    "# 所有留言者與發文者\n",
    "pers = np.unique(pos_comment[['commenters', 'artPoster']])\n",
    "\n",
    "# 建立評分矩陣（留言者對發文者分數）\n",
    "# 取得所有人對於其他人的分數（有方向性）\n",
    "# 矩陣中的值 mat[i][j] 代表使用者 pers[i]（留言者）對使用者 pers[j]（發文者）的評分，\n",
    "# 留言者和發文者之間的關係是有方向的（即，mat[i][j] 不一定等於 mat[j][i]）\n",
    "matrix = pd.pivot_table(pos_comment, index='commenters', columns='artPoster', values='score').fillna(0) \\\n",
    "    .reindex(columns=pers, index=pers, fill_value=0).to_numpy()\n",
    "matrix.shape"
   ],
   "id": "f2f92d8e3e11c97",
   "outputs": [
    {
     "data": {
      "text/plain": [
       "(100, 100)"
      ]
     },
     "execution_count": 83,
     "metadata": {},
     "output_type": "execute_result"
    }
   ],
   "execution_count": 83
  },
  {
   "metadata": {
    "ExecuteTime": {
     "end_time": "2024-06-02T12:48:49.756759Z",
     "start_time": "2024-06-02T12:48:49.743759Z"
    }
   },
   "cell_type": "code",
   "source": [
    "# 取得所有人與其他人互動分數總和（無方向，兩個方向分數相加）\n",
    "# 矩陣中的每一對元素都對稱，即 mat_s[i][j] 等於 mat_s[j][i]\n",
    "# 對稱矩陣中的值 mat_s[i][j] 表示使用者 pers[i] 與使用者 pers[j] 之間的互動總分。\n",
    "# 透過將 pers[i] 對 pers[j] 的評分和 pers[j] 對 pers[i] 的評分相加而得到的。\n",
    "# np.tril(mat, -1): 生成一個下三角矩陣（包括主對角線下方的所有元素，但不包括主對角線上的元素）\n",
    "# np.triu(mat, 1): 生成一個上三角矩陣（包括主對角線上方的所有元素，但不包括主對角線上的元素）\n",
    "tri = (np.tril(matrix, -1).T + np.triu(matrix, 1))\n",
    "matrix_sum = tri + tri.T  # 上三角和下三角都包括在內，但對角線是 0\n",
    "matrix_sum"
   ],
   "id": "85a654e5775de3ec",
   "outputs": [
    {
     "data": {
      "text/plain": [
       "array([[ 0.,  0.,  0., ...,  0.,  0.,  8.],\n",
       "       [ 0.,  0.,  0., ...,  0.,  0.,  1.],\n",
       "       [ 0.,  0.,  0., ...,  0.,  0.,  0.],\n",
       "       ...,\n",
       "       [ 0.,  0.,  0., ...,  0.,  0., 16.],\n",
       "       [ 0.,  0.,  0., ...,  0.,  0.,  0.],\n",
       "       [ 8.,  1.,  0., ..., 16.,  0.,  0.]])"
      ]
     },
     "execution_count": 89,
     "metadata": {},
     "output_type": "execute_result"
    }
   ],
   "execution_count": 89
  },
  {
   "metadata": {},
   "cell_type": "markdown",
   "source": "## <div style=\"font-family: 'Lucida Sans Unicode', sans-serif; font-size: 18px; color: #4A235A; background-color: #D7BDE2; text-align: left; padding: 10px; border-left: 5px solid #7D3C98; box-shadow: 0 4px 6px rgba(0, 0, 0, 0.2); margin-bottom: 10px;\">Visualize the Interaction Matrix 可視化互動矩陣</div>",
   "id": "74074c75a3cb93bf"
  },
  {
   "metadata": {
    "ExecuteTime": {
     "end_time": "2024-06-02T12:49:25.699047Z",
     "start_time": "2024-06-02T12:49:25.548046Z"
    }
   },
   "cell_type": "code",
   "source": [
    "plt.figure(figsize=(10, 10))\n",
    "\n",
    "plt.imshow(matrix_sum, cmap='coolwarm', interpolation='nearest')\n",
    "plt.colorbar()\n",
    "plt.title('Interaction Matrix')\n",
    "plt.show()"
   ],
   "id": "5d223d55a60d6ec5",
   "outputs": [
    {
     "data": {
      "text/plain": [
       "<Figure size 1000x1000 with 2 Axes>"
      ],
      "image/png": "[encoded data removed]"
     },
     "metadata": {},
     "output_type": "display_data"
    }
   ],
   "execution_count": 90
  },
  {
   "metadata": {},
   "cell_type": "markdown",
   "source": "",
   "id": "d12f25c7985655d1"
  },
  {
   "metadata": {},
   "cell_type": "markdown",
   "source": "可見有少部分兩兩之間的互動有很高的分數，這些人之間的互動可能比較密切。",
   "id": "23ed503381e22d57"
  },
  {
   "metadata": {},
   "cell_type": "markdown",
   "source": "## <div style=\"font-family: 'Lucida Sans Unicode', sans-serif; font-size: 18px; color: #4A235A; background-color: #D7BDE2; text-align: left; padding: 10px; border-left: 5px solid #7D3C98; box-shadow: 0 4px 6px rgba(0, 0, 0, 0.2); margin-bottom: 10px;\">Visualize the Network of Users and Articles 可視化使用者與文章的網路</div>",
   "id": "70efe6e8b3957d03"
  },
  {
   "metadata": {
    "ExecuteTime": {
     "end_time": "2024-06-02T12:59:57.708776Z",
     "start_time": "2024-06-02T12:59:57.694779Z"
    }
   },
   "cell_type": "code",
   "source": [
    "# 產生隨機的顏色，畫圖使用\n",
    "def random_color():\n",
    "    r = lambda: random.randint(0, 255)\n",
    "    return '#%02X%02X%02X' % (r(), r(), r())\n",
    "\n",
    "\n",
    "def mat_present_graph(\n",
    "    mat: np.array,\n",
    "    node_id: list,\n",
    "    node_type: list = None,\n",
    "    node_value: list = None,\n",
    "    directed=True,\n",
    "    edge_color=None,\n",
    "    scale=1\n",
    ") -> Network:\n",
    "    # 有方向或無方向\n",
    "    if not directed:\n",
    "        # 矩陣對稱\n",
    "        if (mat == mat.transpose()).all():\n",
    "            print('matrix is Symmetric')\n",
    "        # 矩陣不對稱\n",
    "        else:\n",
    "            print('matrix is not Symmetric')\n",
    "\n",
    "    # 設定節點的類別及顏色\n",
    "    # 沒有分節點類別\n",
    "    if node_type is None:\n",
    "        c = random_color()\n",
    "        node_colors = [c for i in range(len(node_id))]\n",
    "        node_type = [\" \" for i in range(len(node_id))]\n",
    "    # 有分節點類別\n",
    "    else:\n",
    "        node_color_map = {}\n",
    "        for i in set(node_type):\n",
    "            # 幫每個類別產生一個顏色\n",
    "            while True:\n",
    "                c = random_color()\n",
    "                if c not in node_color_map.values():\n",
    "                    break\n",
    "            node_color_map[i] = c\n",
    "        node_colors = [node_color_map[i] for i in node_type]\n",
    "\n",
    "    # 如果沒有給邊的顏色，隨機產生一個\n",
    "    if edge_color is None:\n",
    "        edge_color = random_color()\n",
    "\n",
    "    # 如果沒有給 node 值，就都分配 1\n",
    "    if node_value is None:\n",
    "        node_value = [1 for i in range(len(node_id))]\n",
    "\n",
    "    # 建立圖\n",
    "    net = Network(notebook=True, directed=directed, cdn_resources='in_line')\n",
    "\n",
    "    titles_list = []\n",
    "    for i, j in zip(node_id, node_type):\n",
    "        titles_list.append(str(i) + \":\" + str(j))\n",
    "\n",
    "    net.add_nodes(\n",
    "        nodes=node_id,\n",
    "        value=node_value,\n",
    "        label=node_id,\n",
    "        title=titles_list,\n",
    "        color=node_colors\n",
    "    )\n",
    "\n",
    "    for row in range(len(node_id)):\n",
    "        for col in range(len(node_id)):\n",
    "            if mat[row][col] > 0.:\n",
    "                net.add_edge(\n",
    "                    node_id[row], node_id[col], width=mat[row][col] / scale, color=edge_color, title=mat[row][col]\n",
    "                )\n",
    "    net.repulsion()\n",
    "    return net"
   ],
   "id": "1c816d25c5dec3e8",
   "outputs": [],
   "execution_count": 102
  },
  {
   "metadata": {
    "ExecuteTime": {
     "end_time": "2024-06-02T12:59:59.658922Z",
     "start_time": "2024-06-02T12:59:59.640923Z"
    }
   },
   "cell_type": "code",
   "source": [
    "# 定義發文者（po）、評論者(cmt)、兩者兼具(both)\n",
    "node_type = []\n",
    "\n",
    "cmt_list = pos_comment['commenters'].unique().tolist()\n",
    "po_list = pos_comment['artPoster'].unique().tolist()\n",
    "both_list = list(set(cmt_list) & set(po_list))\n",
    "\n",
    "for p in pers:\n",
    "  if p in both_list:\n",
    "    node_type.append('both')\n",
    "\n",
    "  elif p in cmt_list:\n",
    "    node_type.append('cmt')\n",
    "\n",
    "  elif p in po_list:\n",
    "    node_type.append('po')"
   ],
   "id": "d212a086baf13a42",
   "outputs": [],
   "execution_count": 103
  },
  {
   "metadata": {
    "ExecuteTime": {
     "end_time": "2024-06-02T13:00:14.938267Z",
     "start_time": "2024-06-02T13:00:14.796266Z"
    }
   },
   "cell_type": "code",
   "source": [
    "# 繪製網路圖\n",
    "net = mat_present_graph(matrix_sum, pers, node_type=node_type, directed=False, edge_color='grey', scale=10)\n",
    "\n",
    "net.show('plot/Network2.html')"
   ],
   "id": "c7a3983745454885",
   "outputs": [
    {
     "name": "stdout",
     "output_type": "stream",
     "text": [
      "matrix is Symmetric\n",
      "plot/Network2.html\n"
     ]
    },
    {
     "data": {
      "text/plain": [
       "<IPython.lib.display.IFrame at 0x1e2c6764d60>"
      ],
      "text/html": [
       "\n",
       "        <iframe\n",
       "            width=\"100%\"\n",
       "            height=\"600px\"\n",
       "            src=\"plot/Network2.html\"\n",
       "            frameborder=\"0\"\n",
       "            allowfullscreen\n",
       "            \n",
       "        ></iframe>\n",
       "        "
      ]
     },
     "execution_count": 104,
     "metadata": {},
     "output_type": "execute_result"
    }
   ],
   "execution_count": 104
  },
  {
   "metadata": {},
   "cell_type": "markdown",
   "source": "# <div style=\"font-family: 'Garamond', serif; font-size: 22px; color: #ffffff; background-color: #34568B; text-align: center; padding: 15px; border-radius: 10px; border: 2px solid #FF6F61; box-shadow: 0 6px 12px rgba(0, 0, 0, 0.3); margin-bottom: 20px;\">Step 5: Eigenvector Centrality 特徵向量中心性</div>",
   "id": "d7aa754f2a413521"
  },
  {
   "metadata": {},
   "cell_type": "markdown",
   "source": "## <div style=\"font-family: 'Lucida Sans Unicode', sans-serif; font-size: 18px; color: #4A235A; background-color: #D7BDE2; text-align: left; padding: 10px; border-left: 5px solid #7D3C98; box-shadow: 0 4px 6px rgba(0, 0, 0, 0.2); margin-bottom: 10px;\">Calculate the Eigenvector Centrality 計算特徵向量中心性</div>",
   "id": "b63b81f23563ad5d"
  },
  {
   "metadata": {
    "ExecuteTime": {
     "end_time": "2024-06-02T13:04:07.025567Z",
     "start_time": "2024-06-02T13:04:07.010566Z"
    }
   },
   "cell_type": "code",
   "source": [
    "# nx.Graph(mat_s): 將對稱矩陣 mat_s 轉換為 NetworkX 的無向圖對象\n",
    "# nx.eigenvector_centrality: 計算圖中每個節點的特徵向量中心性\n",
    "# max_iter=10000: 演算法的最大迭代次數，以確保演算法收斂。 特徵向量中心性的計算是一個迭代過程，可能需要多次迭代才能達到穩定狀態。\n",
    "eigen_vector = np.array(list(nx.eigenvector_centrality(nx.Graph(matrix_sum), max_iter = 10000).values()))\n",
    "\n",
    "# 將特徵向量中心性值歸一化到 [0, 1] 範圍內\n",
    "eigen_vector = (eigen_vector - np.min(eigen_vector)) / (np.max(eigen_vector) - np.min(eigen_vector))"
   ],
   "id": "e1b7e22c68fac9a0",
   "outputs": [],
   "execution_count": 106
  },
  {
   "metadata": {},
   "cell_type": "markdown",
   "source": "## <div style=\"font-family: 'Lucida Sans Unicode', sans-serif; font-size: 18px; color: #4A235A; background-color: #D7BDE2; text-align: left; padding: 10px; border-left: 5px solid #7D3C98; box-shadow: 0 4px 6px rgba(0, 0, 0, 0.2); margin-bottom: 10px;\">Visualize the Eigenvector Centrality 可視化特徵向量中心性</div>",
   "id": "ed5aab4a517e6c8a"
  },
  {
   "metadata": {
    "ExecuteTime": {
     "end_time": "2024-06-02T13:07:40.696944Z",
     "start_time": "2024-06-02T13:07:40.596945Z"
    }
   },
   "cell_type": "code",
   "source": [
    "# 繪製特徵向量中心性的直方圖\n",
    "plt.figure(figsize=(10, 6))\n",
    "plt.hist(eigen_vector, bins=20, color='skyblue', edgecolor='black', alpha=0.7)\n",
    "plt.title('Eigenvector Centrality Distribution')\n",
    "plt.xlabel('Eigenvector Centrality')\n",
    "plt.ylabel('Frequency')\n",
    "plt.show()"
   ],
   "id": "39881f7b54674e75",
   "outputs": [
    {
     "data": {
      "text/plain": [
       "<Figure size 1000x600 with 1 Axes>"
      ],
      "image/png": "[encoded data removed]"
     },
     "metadata": {},
     "output_type": "display_data"
    }
   ],
   "execution_count": 111
  },
  {
   "metadata": {},
   "cell_type": "markdown",
   "source": "## <div style=\"font-family: 'Lucida Sans Unicode', sans-serif; font-size: 18px; color: #4A235A; background-color: #D7BDE2; text-align: left; padding: 10px; border-left: 5px solid #7D3C98; box-shadow: 0 4px 6px rgba(0, 0, 0, 0.2); margin-bottom: 10px;\">Assign the Value to the Nodes 將值分配給節點</div>",
   "id": "1b1f2681a919cd66"
  },
  {
   "metadata": {
    "ExecuteTime": {
     "end_time": "2024-06-02T13:05:23.150748Z",
     "start_time": "2024-06-02T13:05:23.132748Z"
    }
   },
   "cell_type": "code",
   "source": [
    "node_value = []\n",
    "q = np.quantile(eigen_vector, [.2,.4,.6,.8])\n",
    "\n",
    "for i in eigen_vector:\n",
    "  # 越重要分數越高\n",
    "  if i > q[3]:\n",
    "    node_value.append(25)\n",
    "  elif i >q[2]:\n",
    "    node_value.append(20)\n",
    "  elif i>q[1]:\n",
    "    node_value.append(15)\n",
    "  elif i>q[0]:\n",
    "    node_value.append(10)\n",
    "  else:\n",
    "    node_value.append(5)"
   ],
   "id": "f4998e75c3330a5f",
   "outputs": [],
   "execution_count": 107
  },
  {
   "metadata": {},
   "cell_type": "markdown",
   "source": "## <div style=\"font-family: 'Lucida Sans Unicode', sans-serif; font-size: 18px; color: #4A235A; background-color: #D7BDE2; text-align: left; padding: 10px; border-left: 5px solid #7D3C98; box-shadow: 0 4px 6px rgba(0, 0, 0, 0.2); margin-bottom: 10px;\">Visualize the Network of Users and Articles with Eigenvector Centrality 可視化使用者之間的網路與特徵向量中心性</div>",
   "id": "ea729e8b6a64d2cb"
  },
  {
   "metadata": {
    "ExecuteTime": {
     "end_time": "2024-06-02T13:06:32.292794Z",
     "start_time": "2024-06-02T13:06:32.169795Z"
    }
   },
   "cell_type": "code",
   "source": [
    "net = mat_present_graph(mat = matrix_sum,node_id = pers,node_type = node_type,node_value = node_value,directed=False, scale=10)\n",
    "net.show('plot/Network3.html')"
   ],
   "id": "217726d8a068d753",
   "outputs": [
    {
     "name": "stdout",
     "output_type": "stream",
     "text": [
      "matrix is Symmetric\n",
      "plot/Network3.html\n"
     ]
    },
    {
     "data": {
      "text/plain": [
       "<IPython.lib.display.IFrame at 0x1e2b6df6070>"
      ],
      "text/html": [
       "\n",
       "        <iframe\n",
       "            width=\"100%\"\n",
       "            height=\"600px\"\n",
       "            src=\"plot/Network3.html\"\n",
       "            frameborder=\"0\"\n",
       "            allowfullscreen\n",
       "            \n",
       "        ></iframe>\n",
       "        "
      ]
     },
     "execution_count": 109,
     "metadata": {},
     "output_type": "execute_result"
    }
   ],
   "execution_count": 109
  },
  {
   "metadata": {},
   "cell_type": "markdown",
   "source": "# <div style=\"font-family: 'Garamond', serif; font-size: 22px; color: #ffffff; background-color: #34568B; text-align: center; padding: 15px; border-radius: 10px; border: 2px solid #FF6F61; box-shadow: 0 6px 12px rgba(0, 0, 0, 0.3); margin-bottom: 20px;\">Step 6: PageRank Algorithm PageRank 演算法</div>",
   "id": "42f4caa85005b84e"
  },
  {
   "metadata": {},
   "cell_type": "markdown",
   "source": "## <div style=\"font-family: 'Lucida Sans Unicode', sans-serif; font-size: 18px; color: #4A235A; background-color: #D7BDE2; text-align: left; padding: 10px; border-left: 5px solid #7D3C98; box-shadow: 0 4px 6px rgba(0, 0, 0, 0.2); margin-bottom: 10px;\">Calculate the PageRank 計算 PageRank</div>",
   "id": "117b5439ac10ce3e"
  },
  {
   "metadata": {
    "ExecuteTime": {
     "end_time": "2024-06-02T13:09:54.365907Z",
     "start_time": "2024-06-02T13:09:54.259908Z"
    }
   },
   "cell_type": "code",
   "source": [
    "# Digraph 設定有向圖\n",
    "# nx.DiGraph(mat): 使用 NetworkX 的 DiGraph 類別將矩陣 mat 轉換為有向圖物件。\n",
    "# nx.pagerank(): 計算圖中每個節點的 PageRank 值\n",
    "pagerank = np.array(list(nx.pagerank(nx.DiGraph(matrix)).values()))"
   ],
   "id": "6596666f6b4a4fc5",
   "outputs": [
    {
     "data": {
      "text/plain": [
       "array([0.00476838, 0.00978762, 0.01263152, 0.00450614, 0.00855313,\n",
       "       0.00331967, 0.07559493, 0.00450166, 0.00512239, 0.01477836,\n",
       "       0.0206031 , 0.01917743, 0.01338452, 0.00665639, 0.01103826,\n",
       "       0.0093883 , 0.01101814, 0.01200588, 0.00956274, 0.03032082,\n",
       "       0.00331063, 0.01070222, 0.01829514, 0.00575565, 0.0033215 ,\n",
       "       0.00444092, 0.0061983 , 0.01464369, 0.00327279, 0.02443487,\n",
       "       0.0064658 , 0.00626933, 0.00327279, 0.00687952, 0.00444873,\n",
       "       0.00846172, 0.00369526, 0.01253215, 0.00689134, 0.00576733,\n",
       "       0.01252298, 0.00417343, 0.00669537, 0.02971171, 0.01777415,\n",
       "       0.00432952, 0.00717964, 0.00439758, 0.00327279, 0.00514522,\n",
       "       0.00639652, 0.00730046, 0.00904441, 0.02608453, 0.00640302,\n",
       "       0.00538999, 0.03017095, 0.00902089, 0.01053182, 0.00510261,\n",
       "       0.02978365, 0.00607936, 0.00327279, 0.00449703, 0.00406008,\n",
       "       0.00520513, 0.00430142, 0.00327279, 0.00535162, 0.00694684,\n",
       "       0.00649511, 0.00403867, 0.01177268, 0.00568855, 0.00897452,\n",
       "       0.00327279, 0.00502559, 0.01015881, 0.00464072, 0.01396202,\n",
       "       0.02652212, 0.02321918, 0.0060457 , 0.00540003, 0.01030958,\n",
       "       0.00390009, 0.00487328, 0.00355119, 0.00664032, 0.00381826,\n",
       "       0.01017087, 0.00371221, 0.00372537, 0.00534832, 0.00375193,\n",
       "       0.01070672, 0.03862938, 0.01323018, 0.00994561, 0.00327279])"
      ]
     },
     "execution_count": 113,
     "metadata": {},
     "output_type": "execute_result"
    }
   ],
   "execution_count": 113
  },
  {
   "metadata": {},
   "cell_type": "markdown",
   "source": "## <div style=\"font-family: 'Lucida Sans Unicode', sans-serif; font-size: 18px; color: #4A235A; background-color: #D7BDE2; text-align: left; padding: 10px; border-left: 5px solid #7D3C98; box-shadow: 0 4px 6px rgba(0, 0, 0, 0.2); margin-bottom: 10px;\">Visualize the PageRank 可視化 PageRank</div>",
   "id": "f88dac4d6429b8c3"
  },
  {
   "metadata": {
    "ExecuteTime": {
     "end_time": "2024-06-02T13:10:15.281131Z",
     "start_time": "2024-06-02T13:10:15.174128Z"
    }
   },
   "cell_type": "code",
   "source": [
    "# 繪製 PageRank 的直方圖\n",
    "plt.figure(figsize=(10, 6))\n",
    "plt.hist(pagerank, bins=20, color='skyblue', edgecolor='black', alpha=0.7)\n",
    "plt.title('PageRank Distribution')\n",
    "plt.xlabel('PageRank')\n",
    "plt.ylabel('Frequency')\n",
    "plt.show()"
   ],
   "id": "da2bcae7d2d95cc2",
   "outputs": [
    {
     "data": {
      "text/plain": [
       "<Figure size 1000x600 with 1 Axes>"
      ],
      "image/png": "[encoded data removed]"
     },
     "metadata": {},
     "output_type": "display_data"
    }
   ],
   "execution_count": 114
  },
  {
   "metadata": {
    "ExecuteTime": {
     "end_time": "2024-06-02T13:11:15.118847Z",
     "start_time": "2024-06-02T13:11:15.035848Z"
    }
   },
   "cell_type": "code",
   "source": [
    "net = mat_present_graph(mat=matrix, node_id=pers, node_type=node_type, node_value=(pagerank * 1000).tolist(), scale=10)\n",
    "\n",
    "net.show('plot/Network4.html')"
   ],
   "id": "a139651c5eee750b",
   "outputs": [
    {
     "name": "stdout",
     "output_type": "stream",
     "text": [
      "plot/Network4.html\n"
     ]
    },
    {
     "data": {
      "text/plain": [
       "<IPython.lib.display.IFrame at 0x1e2c6cb1580>"
      ],
      "text/html": [
       "\n",
       "        <iframe\n",
       "            width=\"100%\"\n",
       "            height=\"600px\"\n",
       "            src=\"plot/Network4.html\"\n",
       "            frameborder=\"0\"\n",
       "            allowfullscreen\n",
       "            \n",
       "        ></iframe>\n",
       "        "
      ]
     },
     "execution_count": 116,
     "metadata": {},
     "output_type": "execute_result"
    }
   ],
   "execution_count": 116
  },
  {
   "metadata": {},
   "cell_type": "markdown",
   "source": "# <div style=\"font-family: 'Garamond', serif; font-size: 22px; color: #ffffff; background-color: #34568B; text-align: center; padding: 15px; border-radius: 10px; border: 2px solid #FF6F61; box-shadow: 0 6px 12px rgba(0, 0, 0, 0.3); margin-bottom: 20px;\">Step 7: Hit Score</div>",
   "id": "c881596ac0d8036c"
  },
  {
   "metadata": {},
   "cell_type": "markdown",
   "source": "## <div style=\"font-family: 'Lucida Sans Unicode', sans-serif; font-size: 18px; color: #4A235A; background-color: #D7BDE2; text-align: left; padding: 10px; border-left: 5px solid #7D3C98; box-shadow: 0 4px 6px rgba(0, 0, 0, 0.2); margin-bottom: 10px;\">Calculate the Hit Score 計算 Hit Score</div>",
   "id": "16ad1b5866286731"
  },
  {
   "metadata": {
    "ExecuteTime": {
     "end_time": "2024-06-02T13:13:24.159859Z",
     "start_time": "2024-06-02T13:13:24.121862Z"
    }
   },
   "cell_type": "code",
   "source": [
    "# nx.hits 計算圖中每個節點的 Hub 和 Authority 值。 HITS 演算法將每個節點分為兩種角色：\n",
    "# Hub： 一個好的 Hub 節點連結到許多 Authority 節點。\n",
    "# Authority： 一個好的 Authority 節點被許多 Hub 節點連結到。\n",
    "\n",
    "# out_：每個節點的 Hub 值。\n",
    "# in_：每個節點的 Authority 值。\n",
    "\n",
    "out_, in_ = nx.hits(nx.DiGraph(matrix), max_iter=100)"
   ],
   "id": "f019439f046ce35a",
   "outputs": [],
   "execution_count": 117
  },
  {
   "metadata": {
    "ExecuteTime": {
     "end_time": "2024-06-02T13:13:42.693035Z",
     "start_time": "2024-06-02T13:13:42.679034Z"
    }
   },
   "cell_type": "code",
   "source": [
    "out_ = np.array(list(out_.values()))\n",
    "out_q = np.quantile(out_,[.2,.4,.6,.8])\n",
    "out_q"
   ],
   "id": "b0325ee2cf25203d",
   "outputs": [
    {
     "data": {
      "text/plain": [
       "array([-0.        ,  0.00022324,  0.00156527,  0.0087416 ])"
      ]
     },
     "execution_count": 118,
     "metadata": {},
     "output_type": "execute_result"
    }
   ],
   "execution_count": 118
  },
  {
   "metadata": {
    "ExecuteTime": {
     "end_time": "2024-06-02T13:13:55.462141Z",
     "start_time": "2024-06-02T13:13:55.453352Z"
    }
   },
   "cell_type": "code",
   "source": [
    "in_ = np.array(list(in_.values()))\n",
    "in_q = np.quantile(in_, [.2, .4, .6, .8])\n",
    "in_q"
   ],
   "id": "23bd4b9ac95f168e",
   "outputs": [
    {
     "data": {
      "text/plain": [
       "array([0.00066012, 0.00144444, 0.0030027 , 0.01129364])"
      ]
     },
     "execution_count": 119,
     "metadata": {},
     "output_type": "execute_result"
    }
   ],
   "execution_count": 119
  },
  {
   "metadata": {
    "ExecuteTime": {
     "end_time": "2024-06-02T13:15:57.806587Z",
     "start_time": "2024-06-02T13:15:57.791588Z"
    }
   },
   "cell_type": "code",
   "source": [
    "node_value_out = []\n",
    "\n",
    "# 根據 Hub 值設定節點大小\n",
    "for i in out_:\n",
    "  if i > out_q[3]:\n",
    "    node_value_out.append(25)\n",
    "  elif i >out_q[2]:\n",
    "    node_value_out.append(20)\n",
    "  elif i>out_q[1]:\n",
    "    node_value_out.append(15)\n",
    "  elif i>out_q[0]:\n",
    "    node_value_out.append(10)\n",
    "  else:\n",
    "    node_value_out.append(5)"
   ],
   "id": "40011bcb3603ae38",
   "outputs": [],
   "execution_count": 122
  },
  {
   "metadata": {
    "ExecuteTime": {
     "end_time": "2024-06-02T13:15:58.232153Z",
     "start_time": "2024-06-02T13:15:58.215153Z"
    }
   },
   "cell_type": "code",
   "source": [
    "node_value_in = []\n",
    "\n",
    "# 根據 Authority 值設定節點大小\n",
    "for i in in_:\n",
    "  if i > in_q[3]:\n",
    "    node_value_in.append(25)\n",
    "  elif i >in_q[2]:\n",
    "    node_value_in.append(20)\n",
    "  elif i>in_q[1]:\n",
    "    node_value_in.append(15)\n",
    "  elif i>in_q[0]:\n",
    "    node_value_in.append(10)\n",
    "  else:\n",
    "    node_value_in.append(5)"
   ],
   "id": "aeae29caf3384643",
   "outputs": [],
   "execution_count": 123
  },
  {
   "metadata": {},
   "cell_type": "markdown",
   "source": "## <div style=\"font-family: 'Lucida Sans Unicode', sans-serif; font-size: 18px; color: #4A235A; background-color: #D7BDE2; text-align: left; padding: 10px; border-left: 5px solid #7D3C98; box-shadow: 0 4px 6px rgba(0, 0, 0, 0.2); margin-bottom: 10px;\">Visualize the Out Score 可視化 Out Score</div>",
   "id": "ee86e055afc4ca31"
  },
  {
   "metadata": {
    "ExecuteTime": {
     "end_time": "2024-06-02T13:16:24.757355Z",
     "start_time": "2024-06-02T13:16:24.681358Z"
    }
   },
   "cell_type": "code",
   "source": [
    "net = mat_present_graph(mat=matrix, node_id=pers, node_type=node_type, node_value=node_value_out, scale=10)\n",
    "\n",
    "net.show('plot/Network5.html')"
   ],
   "id": "b251d8dcc5f3f80e",
   "outputs": [
    {
     "name": "stdout",
     "output_type": "stream",
     "text": [
      "plot/Network5.html\n"
     ]
    },
    {
     "data": {
      "text/plain": [
       "<IPython.lib.display.IFrame at 0x1e2c695f100>"
      ],
      "text/html": [
       "\n",
       "        <iframe\n",
       "            width=\"100%\"\n",
       "            height=\"600px\"\n",
       "            src=\"plot/Network5.html\"\n",
       "            frameborder=\"0\"\n",
       "            allowfullscreen\n",
       "            \n",
       "        ></iframe>\n",
       "        "
      ]
     },
     "execution_count": 124,
     "metadata": {},
     "output_type": "execute_result"
    }
   ],
   "execution_count": 124
  },
  {
   "metadata": {},
   "cell_type": "markdown",
   "source": "## <div style=\"font-family: 'Lucida Sans Unicode', sans-serif; font-size: 18px; color: #4A235A; background-color: #D7BDE2; text-align: left; padding: 10px; border-left: 5px solid #7D3C98; box-shadow: 0 4px 6px rgba(0, 0, 0, 0.2); margin-bottom: 10px;\">Visualize the In Score 可視化 In Score</div>",
   "id": "84e96e4d767f5a1f"
  },
  {
   "metadata": {
    "ExecuteTime": {
     "end_time": "2024-06-02T13:16:42.300107Z",
     "start_time": "2024-06-02T13:16:42.226108Z"
    }
   },
   "cell_type": "code",
   "source": [
    "net = mat_present_graph(mat=matrix, node_id=pers, node_type=node_type, node_value=node_value_in, scale=10)\n",
    "\n",
    "net.show('plot/Network6.html')"
   ],
   "id": "f805499efc23c97e",
   "outputs": [
    {
     "name": "stdout",
     "output_type": "stream",
     "text": [
      "plot/Network6.html\n"
     ]
    },
    {
     "data": {
      "text/plain": [
       "<IPython.lib.display.IFrame at 0x1e2c6fb4640>"
      ],
      "text/html": [
       "\n",
       "        <iframe\n",
       "            width=\"100%\"\n",
       "            height=\"600px\"\n",
       "            src=\"plot/Network6.html\"\n",
       "            frameborder=\"0\"\n",
       "            allowfullscreen\n",
       "            \n",
       "        ></iframe>\n",
       "        "
      ]
     },
     "execution_count": 125,
     "metadata": {},
     "output_type": "execute_result"
    }
   ],
   "execution_count": 125
  },
  {
   "metadata": {},
   "cell_type": "markdown",
   "source": "# <div style=\"font-family: 'Garamond', serif; font-size: 22px; color: #ffffff; background-color: #34568B; text-align: center; padding: 15px; border-radius: 10px; border: 2px solid #FF6F61; box-shadow: 0 6px 12px rgba(0, 0, 0, 0.3); margin-bottom: 20px;\">Step 8: Betweenness Centrality</div>",
   "id": "7896f74b0ce94b53"
  },
  {
   "metadata": {},
   "cell_type": "markdown",
   "source": "## <div style=\"font-family: 'Lucida Sans Unicode', sans-serif; font-size: 18px; color: #4A235A; background-color: #D7BDE2; text-align: left; padding: 10px; border-left: 5px solid #7D3C98; box-shadow: 0 4px 6px rgba(0, 0, 0, 0.2); margin-bottom: 10px;\">Calculate the Betweenness Centrality 計算 Betweenness Centrality</div>",
   "id": "f56f0b21105d49aa"
  },
  {
   "metadata": {
    "ExecuteTime": {
     "end_time": "2024-06-02T13:18:32.322745Z",
     "start_time": "2024-06-02T13:18:32.285745Z"
    }
   },
   "cell_type": "code",
   "source": [
    "bet = np.array(list(nx.betweenness_centrality(nx.Graph(matrix_sum)).values()))\n",
    "bet = (bet-np.min(bet))/(np.max(bet)-np.min(bet))\n",
    "bet_q = np.quantile(bet,[.2,.4,.6,.8])"
   ],
   "id": "ab8e8d8875be53d6",
   "outputs": [],
   "execution_count": 126
  },
  {
   "metadata": {
    "ExecuteTime": {
     "end_time": "2024-06-02T13:18:41.541372Z",
     "start_time": "2024-06-02T13:18:41.522374Z"
    }
   },
   "cell_type": "code",
   "source": [
    "node_value = []\n",
    "\n",
    "for i in bet:\n",
    "  if i > bet_q[3]:\n",
    "    node_value.append(25)\n",
    "  elif i > bet_q[2]:\n",
    "    node_value.append(20)\n",
    "  elif i>bet_q[1]:\n",
    "    node_value.append(15)\n",
    "  elif i>bet_q[0]:\n",
    "    node_value.append(10)\n",
    "  else:\n",
    "    node_value.append(5)"
   ],
   "id": "8a2a1aa4fab3e9e4",
   "outputs": [],
   "execution_count": 127
  },
  {
   "metadata": {},
   "cell_type": "markdown",
   "source": "## <div style=\"font-family: 'Lucida Sans Unicode', sans-serif; font-size: 18px; color: #4A235A; background-color: #D7BDE2; text-align: left; padding: 10px; border-left: 5px solid #7D3C98; box-shadow: 0 4px 6px rgba(0, 0, 0, 0.2); margin-bottom: 10px;\">Visualize the Betweenness Centrality 可視化 Betweenness Centrality</div>",
   "id": "a65204039b47a3ef"
  },
  {
   "metadata": {
    "ExecuteTime": {
     "end_time": "2024-06-02T13:19:09.151119Z",
     "start_time": "2024-06-02T13:19:09.028114Z"
    }
   },
   "cell_type": "code",
   "source": [
    "net = mat_present_graph(mat=matrix_sum, node_id=pers, node_type=node_type, directed=False,node_value=node_value, scale=10)\n",
    "\n",
    "net.show('plot/Network7.html')"
   ],
   "id": "d15d5ea17d138a91",
   "outputs": [
    {
     "name": "stdout",
     "output_type": "stream",
     "text": [
      "matrix is Symmetric\n",
      "plot/Network7.html\n"
     ]
    },
    {
     "data": {
      "text/plain": [
       "<IPython.lib.display.IFrame at 0x1e2c67f9ca0>"
      ],
      "text/html": [
       "\n",
       "        <iframe\n",
       "            width=\"100%\"\n",
       "            height=\"600px\"\n",
       "            src=\"plot/Network7.html\"\n",
       "            frameborder=\"0\"\n",
       "            allowfullscreen\n",
       "            \n",
       "        ></iframe>\n",
       "        "
      ]
     },
     "execution_count": 128,
     "metadata": {},
     "output_type": "execute_result"
    }
   ],
   "execution_count": 128
  },
  {
   "metadata": {},
   "cell_type": "markdown",
   "source": "# <div style=\"font-family: 'Garamond', serif; font-size: 22px; color: #ffffff; background-color: #34568B; text-align: center; padding: 15px; border-radius: 10px; border: 2px solid #FF6F61; box-shadow: 0 6px 12px rgba(0, 0, 0, 0.3); margin-bottom: 20px;\">Step 9: Calculate the Largest Subgraph 計算最大子圖</div>",
   "id": "e0601b05e051d98d"
  },
  {
   "metadata": {},
   "cell_type": "markdown",
   "source": "## <div style=\"font-family: 'Lucida Sans Unicode', sans-serif; font-size: 18px; color: #4A235A; background-color: #D7BDE2; text-align: left; padding: 10px; border-left: 5px solid #7D3C98; box-shadow: 0 4px 6px rgba(0, 0, 0, 0.2); margin-bottom: 10px;\">Calculate the Largest Subgraph 計算最大子圖</div>",
   "id": "334002c08af2ca4a"
  },
  {
   "metadata": {
    "ExecuteTime": {
     "end_time": "2024-06-02T13:20:40.364492Z",
     "start_time": "2024-06-02T13:20:40.351491Z"
    }
   },
   "cell_type": "code",
   "source": [
    "# 計算max subgraph\n",
    "G = nx.Graph(matrix_sum)\n",
    "G_sub = sorted(nx.connected_components(G), key=len, reverse=True)\n",
    "G_max_sub = G.subgraph(G_sub[0])\n",
    "\n",
    "# 重新定義 mat\n",
    "sub_matrix = nx.adjacency_matrix(G_max_sub).todense()\n",
    "node_idx = list(G_max_sub.nodes)\n",
    "sub_pers = pers[node_idx]"
   ],
   "id": "e33142bac3e530f5",
   "outputs": [],
   "execution_count": 129
  },
  {
   "metadata": {},
   "cell_type": "markdown",
   "source": "## <div style=\"font-family: 'Lucida Sans Unicode', sans-serif; font-size: 18px; color: #4A235A; background-color: #D7BDE2; text-align: left; padding: 10px; border-left: 5px solid #7D3C98; box-shadow: 0 4px 6px rgba(0, 0, 0, 0.2); margin-bottom: 10px;\">Visualize the Largest Subgraph 可視化最大子圖</div>",
   "id": "981b03f9290c9e25"
  },
  {
   "metadata": {
    "ExecuteTime": {
     "end_time": "2024-06-02T13:21:34.930374Z",
     "start_time": "2024-06-02T13:21:34.778375Z"
    }
   },
   "cell_type": "code",
   "source": [
    "net = mat_present_graph(mat=sub_matrix, node_id=sub_pers, directed=False, scale=10)\n",
    "\n",
    "net.show('plot/Network8.html')"
   ],
   "id": "bc9899807bedf4fd",
   "outputs": [
    {
     "name": "stdout",
     "output_type": "stream",
     "text": [
      "matrix is Symmetric\n",
      "plot/Network8.html\n"
     ]
    },
    {
     "data": {
      "text/plain": [
       "<IPython.lib.display.IFrame at 0x1e2c7a40220>"
      ],
      "text/html": [
       "\n",
       "        <iframe\n",
       "            width=\"100%\"\n",
       "            height=\"600px\"\n",
       "            src=\"plot/Network8.html\"\n",
       "            frameborder=\"0\"\n",
       "            allowfullscreen\n",
       "            \n",
       "        ></iframe>\n",
       "        "
      ]
     },
     "execution_count": 131,
     "metadata": {},
     "output_type": "execute_result"
    }
   ],
   "execution_count": 131
  },
  {
   "metadata": {},
   "cell_type": "markdown",
   "source": "## <div style=\"font-family: 'Lucida Sans Unicode', sans-serif; font-size: 18px; color: #4A235A; background-color: #D7BDE2; text-align: left; padding: 10px; border-left: 5px solid #7D3C98; box-shadow: 0 4px 6px rgba(0, 0, 0, 0.2); margin-bottom: 10px;\">Calculate the Transitivity 計算圖的聚集性</div>",
   "id": "3824d90d62fed4aa"
  },
  {
   "metadata": {
    "ExecuteTime": {
     "end_time": "2024-06-02T13:26:14.403565Z",
     "start_time": "2024-06-02T13:26:14.387569Z"
    }
   },
   "cell_type": "code",
   "source": "nx.transitivity(nx.Graph(sub_matrix))",
   "id": "36685e903679d986",
   "outputs": [
    {
     "data": {
      "text/plain": [
       "0.3190269600247908"
      ]
     },
     "execution_count": 135,
     "metadata": {},
     "output_type": "execute_result"
    }
   ],
   "execution_count": 135
  },
  {
   "metadata": {},
   "cell_type": "markdown",
   "source": "## <div style=\"font-family: 'Lucida Sans Unicode', sans-serif; font-size: 18px; color: #4A235A; background-color: #D7BDE2; text-align: left; padding: 10px; border-left: 5px solid #7D3C98; box-shadow: 0 4px 6px rgba(0, 0, 0, 0.2); margin-bottom: 10px;\">Calculate the Density 計算密度</div>",
   "id": "ace090e1f882d081"
  },
  {
   "metadata": {
    "ExecuteTime": {
     "end_time": "2024-06-02T13:26:32.725115Z",
     "start_time": "2024-06-02T13:26:32.706117Z"
    }
   },
   "cell_type": "code",
   "source": "nx.density(nx.Graph(sub_matrix))",
   "id": "c310588f618198ab",
   "outputs": [
    {
     "data": {
      "text/plain": [
       "0.16565656565656567"
      ]
     },
     "execution_count": 136,
     "metadata": {},
     "output_type": "execute_result"
    }
   ],
   "execution_count": 136
  },
  {
   "metadata": {},
   "cell_type": "markdown",
   "source": "## <div style=\"font-family: 'Lucida Sans Unicode', sans-serif; font-size: 18px; color: #4A235A; background-color: #D7BDE2; text-align: left; padding: 10px; border-left: 5px solid #7D3C98; box-shadow: 0 4px 6px rgba(0, 0, 0, 0.2); margin-bottom: 10px;\">Calculate the Average Clustering Coefficient 計算平均聚集係數</div>",
   "id": "dd870aedf94d8609"
  },
  {
   "metadata": {
    "ExecuteTime": {
     "end_time": "2024-06-02T13:26:48.256633Z",
     "start_time": "2024-06-02T13:26:48.234634Z"
    }
   },
   "cell_type": "code",
   "source": "nx.average_clustering(nx.Graph(sub_matrix))",
   "id": "a7d4f3108d039292",
   "outputs": [
    {
     "data": {
      "text/plain": [
       "0.37630358149190035"
      ]
     },
     "execution_count": 137,
     "metadata": {},
     "output_type": "execute_result"
    }
   ],
   "execution_count": 137
  },
  {
   "metadata": {},
   "cell_type": "markdown",
   "source": "## <div style=\"font-family: 'Lucida Sans Unicode', sans-serif; font-size: 18px; color: #4A235A; background-color: #D7BDE2; text-align: left; padding: 10px; border-left: 5px solid #7D3C98; box-shadow: 0 4px 6px rgba(0, 0, 0, 0.2); margin-bottom: 10px;\">Calculate the Distance 計算距離</div>",
   "id": "832733656550c843"
  },
  {
   "metadata": {
    "ExecuteTime": {
     "end_time": "2024-06-02T13:28:16.000021Z",
     "start_time": "2024-06-02T13:28:15.975023Z"
    }
   },
   "cell_type": "code",
   "source": "nx.average_shortest_path_length(nx.Graph(sub_matrix))",
   "id": "f462084c6863d48e",
   "outputs": [
    {
     "data": {
      "text/plain": [
       "2.002222222222222"
      ]
     },
     "execution_count": 139,
     "metadata": {},
     "output_type": "execute_result"
    }
   ],
   "execution_count": 139
  },
  {
   "metadata": {},
   "cell_type": "markdown",
   "source": "## <div style=\"font-family: 'Lucida Sans Unicode', sans-serif; font-size: 18px; color: #4A235A; background-color: #D7BDE2; text-align: left; padding: 10px; border-left: 5px solid #7D3C98; box-shadow: 0 4px 6px rgba(0, 0, 0, 0.2); margin-bottom: 10px;\">Calculate the Diameter 計算直徑</div>",
   "id": "39fb9d63659a987c"
  },
  {
   "metadata": {
    "ExecuteTime": {
     "end_time": "2024-06-02T13:28:37.011765Z",
     "start_time": "2024-06-02T13:28:36.998765Z"
    }
   },
   "cell_type": "code",
   "source": "nx.diameter(nx.Graph(sub_matrix))",
   "id": "5a6106605ae5f3f0",
   "outputs": [
    {
     "data": {
      "text/plain": [
       "4"
      ]
     },
     "execution_count": 140,
     "metadata": {},
     "output_type": "execute_result"
    }
   ],
   "execution_count": 140
  },
  {
   "metadata": {},
   "cell_type": "markdown",
   "source": "## <div style=\"font-family: 'Lucida Sans Unicode', sans-serif; font-size: 18px; color: #4A235A; background-color: #D7BDE2; text-align: left; padding: 10px; border-left: 5px solid #7D3C98; box-shadow: 0 4px 6px rgba(0, 0, 0, 0.2); margin-bottom: 10px;\">Calculate the Clustering 計算聚集性</div>",
   "id": "e11bfbcf7fa08f5b"
  },
  {
   "metadata": {
    "ExecuteTime": {
     "end_time": "2024-06-02T13:29:49.837193Z",
     "start_time": "2024-06-02T13:29:49.812191Z"
    }
   },
   "cell_type": "code",
   "source": "nx.average_clustering(nx.Graph(sub_matrix))",
   "id": "6711eca92f214a5b",
   "outputs": [
    {
     "data": {
      "text/plain": [
       "0.37630358149190035"
      ]
     },
     "execution_count": 142,
     "metadata": {},
     "output_type": "execute_result"
    }
   ],
   "execution_count": 142
  },
  {
   "metadata": {},
   "cell_type": "markdown",
   "source": "# <div style=\"font-family: 'Garamond', serif; font-size: 22px; color: #ffffff; background-color: #34568B; text-align: center; padding: 15px; border-radius: 10px; border: 2px solid #FF6F61; box-shadow: 0 6px 12px rgba(0, 0, 0, 0.3); margin-bottom: 20px;\">Step 10: Conclusion 結論</div>",
   "id": "bf7e084e4248f60b"
  },
  {
   "metadata": {},
   "cell_type": "markdown",
   "source": "",
   "id": "785a3e62f3d35834"
  },
  {
   "metadata": {},
   "cell_type": "code",
   "outputs": [],
   "execution_count": null,
   "source": "",
   "id": "a019c9284a6d7b41"
  }
 ],
 "metadata": {
  "kernelspec": {
   "display_name": "Python 3",
   "language": "python",
   "name": "python3"
  },
  "language_info": {
   "codemirror_mode": {
    "name": "ipython",
    "version": 2
   },
   "file_extension": ".py",
   "mimetype": "text/x-python",
   "name": "python",
   "nbconvert_exporter": "python",
   "pygments_lexer": "ipython2",
   "version": "2.7.6"
  }
 },
 "nbformat": 4,
 "nbformat_minor": 5
}
